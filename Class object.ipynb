{
 "cells": [
  {
   "cell_type": "code",
   "execution_count": 36,
   "metadata": {},
   "outputs": [],
   "source": [
    "class Dog():\n",
    "    def __init__(self,name):\n",
    "        self.name=name\n",
    "        \n",
    "    def speak(self):\n",
    "        return self.name+\"says woof!\""
   ]
  },
  {
   "cell_type": "code",
   "execution_count": 37,
   "metadata": {},
   "outputs": [],
   "source": [
    "class cat():\n",
    "    def __init__(self,name):\n",
    "        self.name=name\n",
    "        \n",
    "    def speak(self):\n",
    "        return self.name + \"says meow\""
   ]
  },
  {
   "cell_type": "code",
   "execution_count": 38,
   "metadata": {},
   "outputs": [],
   "source": [
    "niko=Dog(\"niko\")"
   ]
  },
  {
   "cell_type": "code",
   "execution_count": 40,
   "metadata": {},
   "outputs": [],
   "source": [
    "felix=cat(\"felix\")"
   ]
  },
  {
   "cell_type": "code",
   "execution_count": 42,
   "metadata": {},
   "outputs": [
    {
     "name": "stdout",
     "output_type": "stream",
     "text": [
      "nikosays woof!\n"
     ]
    }
   ],
   "source": [
    "print(niko.speak())"
   ]
  },
  {
   "cell_type": "code",
   "execution_count": 43,
   "metadata": {},
   "outputs": [
    {
     "name": "stdout",
     "output_type": "stream",
     "text": [
      "felixsays meow\n"
     ]
    }
   ],
   "source": [
    "print(felix.speak())"
   ]
  },
  {
   "cell_type": "code",
   "execution_count": 46,
   "metadata": {},
   "outputs": [
    {
     "name": "stdout",
     "output_type": "stream",
     "text": [
      "<class '__main__.Dog'>\n",
      "nikosays woof!\n",
      "<class 'str'>\n",
      "<class '__main__.cat'>\n",
      "felixsays meow\n",
      "<class 'str'>\n"
     ]
    }
   ],
   "source": [
    "for pet in[niko,felix]:\n",
    "    print(type(pet))\n",
    "    print(pet.speak())\n",
    "    print(type(pet.speak()))"
   ]
  },
  {
   "cell_type": "code",
   "execution_count": 47,
   "metadata": {},
   "outputs": [],
   "source": [
    "def pet_speak(pet):\n",
    "    print(pet.speak())"
   ]
  },
  {
   "cell_type": "code",
   "execution_count": 50,
   "metadata": {},
   "outputs": [
    {
     "ename": "TypeError",
     "evalue": "speak() takes 1 positional argument but 2 were given",
     "output_type": "error",
     "traceback": [
      "\u001b[1;31m---------------------------------------------------------------------------\u001b[0m",
      "\u001b[1;31mTypeError\u001b[0m                                 Traceback (most recent call last)",
      "\u001b[1;32m<ipython-input-50-ce82112463c2>\u001b[0m in \u001b[0;36m<module>\u001b[1;34m\u001b[0m\n\u001b[1;32m----> 1\u001b[1;33m \u001b[0mpet\u001b[0m\u001b[1;33m.\u001b[0m\u001b[0mspeak\u001b[0m\u001b[1;33m(\u001b[0m\u001b[0mfelix\u001b[0m\u001b[1;33m)\u001b[0m\u001b[1;33m\u001b[0m\u001b[1;33m\u001b[0m\u001b[0m\n\u001b[0m",
      "\u001b[1;31mTypeError\u001b[0m: speak() takes 1 positional argument but 2 were given"
     ]
    }
   ],
   "source": [
    "pet.speak(felix)"
   ]
  },
  {
   "cell_type": "code",
   "execution_count": 49,
   "metadata": {},
   "outputs": [
    {
     "ename": "TypeError",
     "evalue": "speak() takes 1 positional argument but 2 were given",
     "output_type": "error",
     "traceback": [
      "\u001b[1;31m---------------------------------------------------------------------------\u001b[0m",
      "\u001b[1;31mTypeError\u001b[0m                                 Traceback (most recent call last)",
      "\u001b[1;32m<ipython-input-49-fcd7ec800896>\u001b[0m in \u001b[0;36m<module>\u001b[1;34m\u001b[0m\n\u001b[1;32m----> 1\u001b[1;33m \u001b[0mpet\u001b[0m\u001b[1;33m.\u001b[0m\u001b[0mspeak\u001b[0m\u001b[1;33m(\u001b[0m\u001b[0mniko\u001b[0m\u001b[1;33m)\u001b[0m\u001b[1;33m\u001b[0m\u001b[1;33m\u001b[0m\u001b[0m\n\u001b[0m",
      "\u001b[1;31mTypeError\u001b[0m: speak() takes 1 positional argument but 2 were given"
     ]
    }
   ],
   "source": [
    "pet.speak(niko)"
   ]
  },
  {
   "cell_type": "code",
   "execution_count": 4,
   "metadata": {},
   "outputs": [],
   "source": [
    "class smaple():\n",
    "    pass"
   ]
  },
  {
   "cell_type": "code",
   "execution_count": 5,
   "metadata": {},
   "outputs": [],
   "source": [
    "mysam=smaple()"
   ]
  },
  {
   "cell_type": "code",
   "execution_count": 6,
   "metadata": {},
   "outputs": [
    {
     "name": "stdout",
     "output_type": "stream",
     "text": [
      "<class '__main__.smaple'>\n"
     ]
    }
   ],
   "source": [
    "print(smaple)"
   ]
  },
  {
   "cell_type": "code",
   "execution_count": 20,
   "metadata": {},
   "outputs": [],
   "source": [
    "class Book():\n",
    "    def __init__(self,name,author,pages):\n",
    "        self.name=name\n",
    "        self.author=author\n",
    "        self.pages=pages\n",
    "    def __str__(self):\n",
    "        return f\"{self.name} by {self.author}\"\n",
    "    def __len__(self):\n",
    "        return self.pages\n",
    "    def __del__(self):\n",
    "        print(\"A book object has been deleted\")"
   ]
  },
  {
   "cell_type": "code",
   "execution_count": 26,
   "metadata": {},
   "outputs": [],
   "source": [
    "b=Book('The Ganges','Mahatma gandhi',12)"
   ]
  },
  {
   "cell_type": "code",
   "execution_count": 27,
   "metadata": {},
   "outputs": [
    {
     "name": "stdout",
     "output_type": "stream",
     "text": [
      "The Ganges by Mahatma gandhi\n"
     ]
    }
   ],
   "source": [
    "print(b)"
   ]
  },
  {
   "cell_type": "code",
   "execution_count": 28,
   "metadata": {},
   "outputs": [
    {
     "data": {
      "text/plain": [
       "12"
      ]
     },
     "execution_count": 28,
     "metadata": {},
     "output_type": "execute_result"
    }
   ],
   "source": [
    "len(b)"
   ]
  },
  {
   "cell_type": "code",
   "execution_count": 24,
   "metadata": {},
   "outputs": [
    {
     "name": "stdout",
     "output_type": "stream",
     "text": [
      "A book object has been deleted\n"
     ]
    }
   ],
   "source": [
    " def __len__(self):\n",
    "        return self.pages"
   ]
  },
  {
   "cell_type": "code",
   "execution_count": 29,
   "metadata": {},
   "outputs": [
    {
     "name": "stdout",
     "output_type": "stream",
     "text": [
      "A book object has been deleted\n"
     ]
    }
   ],
   "source": [
    "del b"
   ]
  },
  {
   "cell_type": "code",
   "execution_count": 33,
   "metadata": {},
   "outputs": [
    {
     "name": "stdout",
     "output_type": "stream",
     "text": [
      "it seems your input is bad\n",
      "20\n"
     ]
    }
   ],
   "source": [
    "try:\n",
    "    result=10+'10'\n",
    "except:\n",
    "    print(\"it seems your input is bad\")\n",
    "    print(result)\n",
    "else:\n",
    "    print(\"All good\")"
   ]
  },
  {
   "cell_type": "code",
   "execution_count": 20,
   "metadata": {},
   "outputs": [
    {
     "name": "stdout",
     "output_type": "stream",
     "text": [
      "C:\\Users\\Sonu\n"
     ]
    }
   ],
   "source": [
    "cd C:\\Users\\Sonu"
   ]
  },
  {
   "cell_type": "code",
   "execution_count": 23,
   "metadata": {},
   "outputs": [
    {
     "name": "stdout",
     "output_type": "stream",
     "text": [
      "Pickling of the employee is completed............\n",
      "Employee information after unpickling..............\n",
      "1\n",
      "neeraj\n",
      "Ranchi\n"
     ]
    }
   ],
   "source": [
    "import pickle\n",
    "class student:\n",
    "    def __init__(self,eid,name,address):\n",
    "        self.eid=eid\n",
    "        self.name=name\n",
    "        self.address=address\n",
    "    def show(self):\n",
    "        print(self.eid)\n",
    "        print(self.name)\n",
    "        print(self.address)\n",
    "    with open(\"emp.dat\",\"wb\") as f:\n",
    "        e=student(1,'neeraj','Ranchi')\n",
    "        pickle.dump(e,f)\n",
    "        print(\"Pickling of the employee is completed............\")\n",
    "    with open(\"emp.dat\",\"rb\") as f:\n",
    "        obj=pickle.load(f)\n",
    "        print(\"Employee information after unpickling..............\")\n",
    "        obj.show()"
   ]
  },
  {
   "cell_type": "code",
   "execution_count": 42,
   "metadata": {},
   "outputs": [],
   "source": [
    "def Hello(name='jose'):\n",
    "    print(\"This is a hello function.........\")\n",
    "    \n",
    "    def greet():\n",
    "        return \"This is greet function\"\n",
    "    print(greet())\n",
    "    \n",
    "    def welcome():\n",
    "        return '\\t This is welcome() function'\n",
    "    print(welcome())\n",
    "    \n",
    "    if name =='jose':\n",
    "        return greet\n",
    "    else:\n",
    "        return welcome"
   ]
  },
  {
   "cell_type": "code",
   "execution_count": 43,
   "metadata": {},
   "outputs": [
    {
     "name": "stdout",
     "output_type": "stream",
     "text": [
      "This is a hello function.........\n",
      "This is greet function\n",
      "\t This is welcome() function\n"
     ]
    }
   ],
   "source": [
    "mynew=Hello('jose')"
   ]
  },
  {
   "cell_type": "code",
   "execution_count": 46,
   "metadata": {},
   "outputs": [],
   "source": [
    "def hello():\n",
    "    return 'Hi Neeraj'"
   ]
  },
  {
   "cell_type": "code",
   "execution_count": 49,
   "metadata": {},
   "outputs": [],
   "source": [
    "def other(some_def_fun):\n",
    "    print(\"code from other function\")\n",
    "    print(some_def_fun())"
   ]
  },
  {
   "cell_type": "code",
   "execution_count": 50,
   "metadata": {},
   "outputs": [
    {
     "name": "stdout",
     "output_type": "stream",
     "text": [
      "code from other function\n",
      "Hi Neeraj\n"
     ]
    }
   ],
   "source": [
    "other(hello)"
   ]
  },
  {
   "cell_type": "code",
   "execution_count": 59,
   "metadata": {},
   "outputs": [],
   "source": [
    "def new_decorator(original_func):\n",
    "    def wrap_fun():\n",
    "        print('Some Extra code,before the orignal function')\n",
    "        original_func()\n",
    "        print('Some extra code after decorator')\n",
    "    return wrap_fun"
   ]
  },
  {
   "cell_type": "code",
   "execution_count": 60,
   "metadata": {},
   "outputs": [],
   "source": [
    "def func_needs_decorator():\n",
    "    print(\"I want to be decorated\")"
   ]
  },
  {
   "cell_type": "code",
   "execution_count": 61,
   "metadata": {},
   "outputs": [
    {
     "name": "stdout",
     "output_type": "stream",
     "text": [
      "I want to be decorated\n"
     ]
    }
   ],
   "source": [
    "func_needs_decorator()"
   ]
  },
  {
   "cell_type": "code",
   "execution_count": 63,
   "metadata": {},
   "outputs": [],
   "source": [
    "decorated_func=new_decorator(func_needs_decorator)"
   ]
  },
  {
   "cell_type": "code",
   "execution_count": 64,
   "metadata": {},
   "outputs": [
    {
     "name": "stdout",
     "output_type": "stream",
     "text": [
      "Some Extra code,before the orignal function\n",
      "I want to be decorated\n",
      "Some extra code after decorator\n"
     ]
    }
   ],
   "source": [
    "decorated_func()"
   ]
  },
  {
   "cell_type": "code",
   "execution_count": 65,
   "metadata": {},
   "outputs": [],
   "source": [
    "@new_decorator\n",
    "def func_needs_decorator():\n",
    "    print(\"I want to be decorated!!\")"
   ]
  },
  {
   "cell_type": "code",
   "execution_count": 66,
   "metadata": {},
   "outputs": [
    {
     "name": "stdout",
     "output_type": "stream",
     "text": [
      "Some Extra code,before the orignal function\n",
      "I want to be decorated!!\n",
      "Some extra code after decorator\n"
     ]
    }
   ],
   "source": [
    "func_needs_decorator()"
   ]
  },
  {
   "cell_type": "code",
   "execution_count": 72,
   "metadata": {},
   "outputs": [],
   "source": [
    "def cube(n):\n",
    "   for x in range(n):\n",
    "    yield x**3"
   ]
  },
  {
   "cell_type": "code",
   "execution_count": 74,
   "metadata": {},
   "outputs": [
    {
     "data": {
      "text/plain": [
       "[0, 1, 8, 27, 64, 125, 216, 343, 512, 729]"
      ]
     },
     "execution_count": 74,
     "metadata": {},
     "output_type": "execute_result"
    }
   ],
   "source": [
    "list(cube(10))"
   ]
  },
  {
   "cell_type": "code",
   "execution_count": 75,
   "metadata": {},
   "outputs": [],
   "source": [
    "def gen():\n",
    "    for x in range(3):\n",
    "        yield x"
   ]
  },
  {
   "cell_type": "code",
   "execution_count": 77,
   "metadata": {},
   "outputs": [
    {
     "name": "stdout",
     "output_type": "stream",
     "text": [
      "0\n",
      "1\n",
      "2\n"
     ]
    }
   ],
   "source": [
    "for number in gen():\n",
    "    print(number)"
   ]
  },
  {
   "cell_type": "code",
   "execution_count": 78,
   "metadata": {},
   "outputs": [],
   "source": [
    "g=gen()"
   ]
  },
  {
   "cell_type": "code",
   "execution_count": 79,
   "metadata": {},
   "outputs": [
    {
     "data": {
      "text/plain": [
       "<generator object gen at 0x000001ECD75B76C8>"
      ]
     },
     "execution_count": 79,
     "metadata": {},
     "output_type": "execute_result"
    }
   ],
   "source": [
    "g"
   ]
  },
  {
   "cell_type": "code",
   "execution_count": 80,
   "metadata": {},
   "outputs": [
    {
     "data": {
      "text/plain": [
       "0"
      ]
     },
     "execution_count": 80,
     "metadata": {},
     "output_type": "execute_result"
    }
   ],
   "source": [
    "next(g)"
   ]
  },
  {
   "cell_type": "code",
   "execution_count": 81,
   "metadata": {},
   "outputs": [
    {
     "data": {
      "text/plain": [
       "1"
      ]
     },
     "execution_count": 81,
     "metadata": {},
     "output_type": "execute_result"
    }
   ],
   "source": [
    "next(g)"
   ]
  },
  {
   "cell_type": "code",
   "execution_count": 82,
   "metadata": {},
   "outputs": [
    {
     "data": {
      "text/plain": [
       "2"
      ]
     },
     "execution_count": 82,
     "metadata": {},
     "output_type": "execute_result"
    }
   ],
   "source": [
    "next(g)"
   ]
  },
  {
   "cell_type": "code",
   "execution_count": 84,
   "metadata": {},
   "outputs": [
    {
     "name": "stdout",
     "output_type": "stream",
     "text": [
      "h\n",
      "e\n",
      "l\n",
      "l\n",
      "o\n"
     ]
    }
   ],
   "source": [
    "s='hello'\n",
    "for letter in s:\n",
    "    print(letter)"
   ]
  },
  {
   "cell_type": "code",
   "execution_count": 85,
   "metadata": {},
   "outputs": [
    {
     "ename": "TypeError",
     "evalue": "'str' object is not an iterator",
     "output_type": "error",
     "traceback": [
      "\u001b[1;31m---------------------------------------------------------------------------\u001b[0m",
      "\u001b[1;31mTypeError\u001b[0m                                 Traceback (most recent call last)",
      "\u001b[1;32m<ipython-input-85-61c30b5fe1d5>\u001b[0m in \u001b[0;36m<module>\u001b[1;34m\u001b[0m\n\u001b[1;32m----> 1\u001b[1;33m \u001b[0mnext\u001b[0m\u001b[1;33m(\u001b[0m\u001b[0ms\u001b[0m\u001b[1;33m)\u001b[0m\u001b[1;33m\u001b[0m\u001b[1;33m\u001b[0m\u001b[0m\n\u001b[0m",
      "\u001b[1;31mTypeError\u001b[0m: 'str' object is not an iterator"
     ]
    }
   ],
   "source": [
    "next(s)"
   ]
  },
  {
   "cell_type": "code",
   "execution_count": 86,
   "metadata": {},
   "outputs": [],
   "source": [
    "s_iter=iter(s)"
   ]
  },
  {
   "cell_type": "code",
   "execution_count": 87,
   "metadata": {},
   "outputs": [
    {
     "data": {
      "text/plain": [
       "'h'"
      ]
     },
     "execution_count": 87,
     "metadata": {},
     "output_type": "execute_result"
    }
   ],
   "source": [
    "next(s_iter)"
   ]
  },
  {
   "cell_type": "code",
   "execution_count": 88,
   "metadata": {},
   "outputs": [
    {
     "data": {
      "text/plain": [
       "'e'"
      ]
     },
     "execution_count": 88,
     "metadata": {},
     "output_type": "execute_result"
    }
   ],
   "source": [
    "next(s_iter)"
   ]
  },
  {
   "cell_type": "code",
   "execution_count": 89,
   "metadata": {},
   "outputs": [
    {
     "data": {
      "text/plain": [
       "'l'"
      ]
     },
     "execution_count": 89,
     "metadata": {},
     "output_type": "execute_result"
    }
   ],
   "source": [
    "next(s_iter)"
   ]
  },
  {
   "cell_type": "code",
   "execution_count": 90,
   "metadata": {},
   "outputs": [
    {
     "data": {
      "text/plain": [
       "'l'"
      ]
     },
     "execution_count": 90,
     "metadata": {},
     "output_type": "execute_result"
    }
   ],
   "source": [
    "next(s_iter)"
   ]
  },
  {
   "cell_type": "code",
   "execution_count": 91,
   "metadata": {},
   "outputs": [
    {
     "data": {
      "text/plain": [
       "'o'"
      ]
     },
     "execution_count": 91,
     "metadata": {},
     "output_type": "execute_result"
    }
   ],
   "source": [
    "next(s_iter)"
   ]
  },
  {
   "cell_type": "code",
   "execution_count": 93,
   "metadata": {},
   "outputs": [],
   "source": [
    "from collections import Counter"
   ]
  },
  {
   "cell_type": "code",
   "execution_count": 94,
   "metadata": {},
   "outputs": [],
   "source": [
    "l=[1,1,2,3,4,5,6,4,3,2,1]"
   ]
  },
  {
   "cell_type": "code",
   "execution_count": 100,
   "metadata": {},
   "outputs": [],
   "source": [
    " s='assssssssssssssshhhhhhhhhhhhrrrrrrrrrrrrrr'\n",
    " s1=s.split()"
   ]
  },
  {
   "cell_type": "code",
   "execution_count": 101,
   "metadata": {},
   "outputs": [
    {
     "data": {
      "text/plain": [
       "Counter({'assssssssssssssshhhhhhhhhhhhrrrrrrrrrrrrrr': 1})"
      ]
     },
     "execution_count": 101,
     "metadata": {},
     "output_type": "execute_result"
    }
   ],
   "source": [
    "Counter(s1)"
   ]
  },
  {
   "cell_type": "code",
   "execution_count": 102,
   "metadata": {},
   "outputs": [],
   "source": [
    "from collections import defaultdict"
   ]
  },
  {
   "cell_type": "code",
   "execution_count": 105,
   "metadata": {},
   "outputs": [],
   "source": [
    "d={'k1':1,'k2':2}"
   ]
  },
  {
   "cell_type": "code",
   "execution_count": 107,
   "metadata": {},
   "outputs": [
    {
     "data": {
      "text/plain": [
       "1"
      ]
     },
     "execution_count": 107,
     "metadata": {},
     "output_type": "execute_result"
    }
   ],
   "source": [
    "d['k1']"
   ]
  },
  {
   "cell_type": "code",
   "execution_count": 108,
   "metadata": {},
   "outputs": [],
   "source": [
    "d=defaultdict(object)"
   ]
  },
  {
   "cell_type": "code",
   "execution_count": 109,
   "metadata": {},
   "outputs": [
    {
     "data": {
      "text/plain": [
       "<object at 0x1ecd6857a50>"
      ]
     },
     "execution_count": 109,
     "metadata": {},
     "output_type": "execute_result"
    }
   ],
   "source": [
    "d['one']"
   ]
  },
  {
   "cell_type": "code",
   "execution_count": 110,
   "metadata": {},
   "outputs": [
    {
     "name": "stdout",
     "output_type": "stream",
     "text": [
      "one\n"
     ]
    }
   ],
   "source": [
    "for item in d:\n",
    "    print(item)"
   ]
  },
  {
   "cell_type": "code",
   "execution_count": 111,
   "metadata": {},
   "outputs": [],
   "source": [
    "d=defaultdict(lambda:0)"
   ]
  },
  {
   "cell_type": "code",
   "execution_count": 112,
   "metadata": {},
   "outputs": [
    {
     "data": {
      "text/plain": [
       "0"
      ]
     },
     "execution_count": 112,
     "metadata": {},
     "output_type": "execute_result"
    }
   ],
   "source": [
    "d['one']"
   ]
  },
  {
   "cell_type": "code",
   "execution_count": 113,
   "metadata": {},
   "outputs": [],
   "source": [
    "d['two']=2"
   ]
  },
  {
   "cell_type": "code",
   "execution_count": 114,
   "metadata": {},
   "outputs": [
    {
     "data": {
      "text/plain": [
       "defaultdict(<function __main__.<lambda>()>, {'one': 0, 'two': 2})"
      ]
     },
     "execution_count": 114,
     "metadata": {},
     "output_type": "execute_result"
    }
   ],
   "source": [
    "d"
   ]
  },
  {
   "cell_type": "code",
   "execution_count": 115,
   "metadata": {},
   "outputs": [],
   "source": [
    "d={}\n",
    "d['a']=1\n",
    "d['b']=2\n",
    "d['c']=3\n",
    "d['d']=4\n",
    "d['e']=5"
   ]
  },
  {
   "cell_type": "code",
   "execution_count": 116,
   "metadata": {},
   "outputs": [
    {
     "data": {
      "text/plain": [
       "{'a': 1, 'b': 2, 'c': 3, 'd': 4, 'e': 5}"
      ]
     },
     "execution_count": 116,
     "metadata": {},
     "output_type": "execute_result"
    }
   ],
   "source": [
    "d"
   ]
  },
  {
   "cell_type": "code",
   "execution_count": 118,
   "metadata": {},
   "outputs": [
    {
     "name": "stdout",
     "output_type": "stream",
     "text": [
      "a 1\n",
      "b 2\n",
      "c 3\n",
      "d 4\n",
      "e 5\n"
     ]
    }
   ],
   "source": [
    "for k,v in d.items():\n",
    "    print(k,v)"
   ]
  },
  {
   "cell_type": "code",
   "execution_count": 119,
   "metadata": {},
   "outputs": [],
   "source": [
    "from collections import OrderedDict"
   ]
  },
  {
   "cell_type": "code",
   "execution_count": 120,
   "metadata": {},
   "outputs": [],
   "source": [
    "d=OrderedDict()"
   ]
  },
  {
   "cell_type": "code",
   "execution_count": 121,
   "metadata": {},
   "outputs": [],
   "source": [
    "d['a'] = 1\n",
    "d['b'] = 2\n",
    "d['c'] = 3\n",
    "d['d'] = 4\n",
    "d['e'] = 5"
   ]
  },
  {
   "cell_type": "code",
   "execution_count": 122,
   "metadata": {},
   "outputs": [
    {
     "name": "stdout",
     "output_type": "stream",
     "text": [
      "a 1\n",
      "b 2\n",
      "c 3\n",
      "d 4\n",
      "e 5\n"
     ]
    }
   ],
   "source": [
    "for k,v in d.items():\n",
    "    print(k,v)"
   ]
  },
  {
   "cell_type": "code",
   "execution_count": 126,
   "metadata": {},
   "outputs": [],
   "source": [
    "d1=OrderedDict()\n",
    "d1['a']=1\n",
    "d1['b']=2\n",
    "\n",
    "d2=OrderedDict()\n",
    "d2['b']=2\n",
    "d2['a']=1"
   ]
  },
  {
   "cell_type": "code",
   "execution_count": 127,
   "metadata": {},
   "outputs": [
    {
     "name": "stdout",
     "output_type": "stream",
     "text": [
      "False\n"
     ]
    }
   ],
   "source": [
    "print(d1 == d2)"
   ]
  },
  {
   "cell_type": "code",
   "execution_count": 128,
   "metadata": {},
   "outputs": [],
   "source": [
    "t=(1,2,3)"
   ]
  },
  {
   "cell_type": "code",
   "execution_count": 129,
   "metadata": {},
   "outputs": [
    {
     "data": {
      "text/plain": [
       "1"
      ]
     },
     "execution_count": 129,
     "metadata": {},
     "output_type": "execute_result"
    }
   ],
   "source": [
    "t[0]"
   ]
  },
  {
   "cell_type": "code",
   "execution_count": 131,
   "metadata": {},
   "outputs": [],
   "source": [
    "from collections import namedtuple"
   ]
  },
  {
   "cell_type": "code",
   "execution_count": 135,
   "metadata": {},
   "outputs": [],
   "source": [
    "Dog=namedtuple('Dog','age breed name')"
   ]
  },
  {
   "cell_type": "code",
   "execution_count": 136,
   "metadata": {},
   "outputs": [],
   "source": [
    "sam=Dog(age=2,breed='Lab',name='Sammy')"
   ]
  },
  {
   "cell_type": "code",
   "execution_count": 137,
   "metadata": {},
   "outputs": [
    {
     "data": {
      "text/plain": [
       "Dog(age=2, breed='Lab', name='Sammy')"
      ]
     },
     "execution_count": 137,
     "metadata": {},
     "output_type": "execute_result"
    }
   ],
   "source": [
    " sam"
   ]
  },
  {
   "cell_type": "code",
   "execution_count": 138,
   "metadata": {},
   "outputs": [
    {
     "data": {
      "text/plain": [
       "2"
      ]
     },
     "execution_count": 138,
     "metadata": {},
     "output_type": "execute_result"
    }
   ],
   "source": [
    "sam.age"
   ]
  },
  {
   "cell_type": "code",
   "execution_count": 139,
   "metadata": {},
   "outputs": [
    {
     "data": {
      "text/plain": [
       "'Lab'"
      ]
     },
     "execution_count": 139,
     "metadata": {},
     "output_type": "execute_result"
    }
   ],
   "source": [
    "sam.breed"
   ]
  },
  {
   "cell_type": "code",
   "execution_count": 140,
   "metadata": {},
   "outputs": [
    {
     "data": {
      "text/plain": [
       "'Sammy'"
      ]
     },
     "execution_count": 140,
     "metadata": {},
     "output_type": "execute_result"
    }
   ],
   "source": [
    "sam.name"
   ]
  },
  {
   "cell_type": "code",
   "execution_count": 141,
   "metadata": {},
   "outputs": [],
   "source": [
    "Cat=namedtuple('Cat','fur claws name')"
   ]
  },
  {
   "cell_type": "code",
   "execution_count": 142,
   "metadata": {},
   "outputs": [],
   "source": [
    "c=Cat(fur='Fuzzy',claws=False,name='Kitty')"
   ]
  },
  {
   "cell_type": "code",
   "execution_count": 143,
   "metadata": {},
   "outputs": [
    {
     "data": {
      "text/plain": [
       "'Kitty'"
      ]
     },
     "execution_count": 143,
     "metadata": {},
     "output_type": "execute_result"
    }
   ],
   "source": [
    "c.name"
   ]
  },
  {
   "cell_type": "code",
   "execution_count": 144,
   "metadata": {},
   "outputs": [
    {
     "data": {
      "text/plain": [
       "'Kitty'"
      ]
     },
     "execution_count": 144,
     "metadata": {},
     "output_type": "execute_result"
    }
   ],
   "source": [
    "c[2]"
   ]
  },
  {
   "cell_type": "code",
   "execution_count": 145,
   "metadata": {},
   "outputs": [],
   "source": [
    "import datetime"
   ]
  },
  {
   "cell_type": "code",
   "execution_count": 146,
   "metadata": {},
   "outputs": [],
   "source": [
    "t=datetime.time(5,25,1)"
   ]
  },
  {
   "cell_type": "code",
   "execution_count": 148,
   "metadata": {},
   "outputs": [
    {
     "name": "stdout",
     "output_type": "stream",
     "text": [
      "05:25:01\n"
     ]
    }
   ],
   "source": [
    "print(t)"
   ]
  },
  {
   "cell_type": "code",
   "execution_count": 149,
   "metadata": {},
   "outputs": [
    {
     "data": {
      "text/plain": [
       "0"
      ]
     },
     "execution_count": 149,
     "metadata": {},
     "output_type": "execute_result"
    }
   ],
   "source": [
    "t.microsecond"
   ]
  },
  {
   "cell_type": "code",
   "execution_count": 152,
   "metadata": {},
   "outputs": [
    {
     "name": "stdout",
     "output_type": "stream",
     "text": [
      "00:00:00\n"
     ]
    }
   ],
   "source": [
    " print(datetime.time.min)"
   ]
  },
  {
   "cell_type": "code",
   "execution_count": 154,
   "metadata": {},
   "outputs": [
    {
     "name": "stdout",
     "output_type": "stream",
     "text": [
      "0:00:00.000001\n"
     ]
    }
   ],
   "source": [
    " print(datetime.time.resolution)"
   ]
  },
  {
   "cell_type": "code",
   "execution_count": 155,
   "metadata": {},
   "outputs": [],
   "source": [
    "today=datetime.date.today()"
   ]
  },
  {
   "cell_type": "code",
   "execution_count": 156,
   "metadata": {},
   "outputs": [
    {
     "name": "stdout",
     "output_type": "stream",
     "text": [
      "2020-07-17\n"
     ]
    }
   ],
   "source": [
    "print(today)"
   ]
  },
  {
   "cell_type": "code",
   "execution_count": 157,
   "metadata": {},
   "outputs": [
    {
     "data": {
      "text/plain": [
       "time.struct_time(tm_year=2020, tm_mon=7, tm_mday=17, tm_hour=0, tm_min=0, tm_sec=0, tm_wday=4, tm_yday=199, tm_isdst=-1)"
      ]
     },
     "execution_count": 157,
     "metadata": {},
     "output_type": "execute_result"
    }
   ],
   "source": [
    "today.timetuple()"
   ]
  },
  {
   "cell_type": "code",
   "execution_count": 159,
   "metadata": {},
   "outputs": [
    {
     "data": {
      "text/plain": [
       "7"
      ]
     },
     "execution_count": 159,
     "metadata": {},
     "output_type": "execute_result"
    }
   ],
   "source": [
    "today.month"
   ]
  },
  {
   "cell_type": "code",
   "execution_count": 160,
   "metadata": {},
   "outputs": [
    {
     "data": {
      "text/plain": [
       "17"
      ]
     },
     "execution_count": 160,
     "metadata": {},
     "output_type": "execute_result"
    }
   ],
   "source": [
    "today.day"
   ]
  },
  {
   "cell_type": "code",
   "execution_count": 161,
   "metadata": {},
   "outputs": [
    {
     "data": {
      "text/plain": [
       "2020"
      ]
     },
     "execution_count": 161,
     "metadata": {},
     "output_type": "execute_result"
    }
   ],
   "source": [
    "today.year"
   ]
  },
  {
   "cell_type": "code",
   "execution_count": 164,
   "metadata": {},
   "outputs": [
    {
     "name": "stdout",
     "output_type": "stream",
     "text": [
      "1 day, 0:00:00\n"
     ]
    }
   ],
   "source": [
    "print(datetime.date.resolution)"
   ]
  },
  {
   "cell_type": "code",
   "execution_count": 166,
   "metadata": {},
   "outputs": [
    {
     "name": "stdout",
     "output_type": "stream",
     "text": [
      "2015-03-11\n"
     ]
    }
   ],
   "source": [
    "d1=datetime.date(2015,3,11)\n",
    "print(d1)"
   ]
  },
  {
   "cell_type": "code",
   "execution_count": 167,
   "metadata": {},
   "outputs": [],
   "source": [
    "d2=d1.replace(year=1990)"
   ]
  },
  {
   "cell_type": "code",
   "execution_count": 168,
   "metadata": {},
   "outputs": [
    {
     "data": {
      "text/plain": [
       "datetime.date(1990, 3, 11)"
      ]
     },
     "execution_count": 168,
     "metadata": {},
     "output_type": "execute_result"
    }
   ],
   "source": [
    "d2"
   ]
  },
  {
   "cell_type": "code",
   "execution_count": 169,
   "metadata": {},
   "outputs": [
    {
     "data": {
      "text/plain": [
       "datetime.timedelta(days=9131)"
      ]
     },
     "execution_count": 169,
     "metadata": {},
     "output_type": "execute_result"
    }
   ],
   "source": [
    "d1-d2"
   ]
  },
  {
   "cell_type": "code",
   "execution_count": 2,
   "metadata": {},
   "outputs": [],
   "source": [
    "import timeit"
   ]
  },
  {
   "cell_type": "code",
   "execution_count": 7,
   "metadata": {},
   "outputs": [
    {
     "data": {
      "text/plain": [
       "0.3854709000000298"
      ]
     },
     "execution_count": 7,
     "metadata": {},
     "output_type": "execute_result"
    }
   ],
   "source": [
    "timeit.timeit('\"-\".join(str(n) for n in range(100))',number=10000)"
   ]
  },
  {
   "cell_type": "code",
   "execution_count": 8,
   "metadata": {},
   "outputs": [
    {
     "data": {
      "text/plain": [
       "0.29817739999998594"
      ]
     },
     "execution_count": 8,
     "metadata": {},
     "output_type": "execute_result"
    }
   ],
   "source": [
    "timeit.timeit('\"-\".join(map(str,range(100)))',number=10000)"
   ]
  },
  {
   "cell_type": "code",
   "execution_count": 9,
   "metadata": {},
   "outputs": [
    {
     "name": "stdout",
     "output_type": "stream",
     "text": [
      "23.6 µs ± 1.96 µs per loop (mean ± std. dev. of 7 runs, 10000 loops each)\n"
     ]
    }
   ],
   "source": [
    "%timeit \"-\".join(map(str,range(100)))"
   ]
  },
  {
   "cell_type": "code",
   "execution_count": 10,
   "metadata": {},
   "outputs": [
    {
     "name": "stdout",
     "output_type": "stream",
     "text": [
      "14.3 ns ± 2.24 ns per loop (mean ± std. dev. of 7 runs, 10000000 loops each)\n"
     ]
    }
   ],
   "source": [
    "%timeit '\"-\".join(str(n) for n in range(100))'"
   ]
  },
  {
   "cell_type": "code",
   "execution_count": 11,
   "metadata": {},
   "outputs": [],
   "source": [
    "import re"
   ]
  },
  {
   "cell_type": "code",
   "execution_count": 12,
   "metadata": {},
   "outputs": [],
   "source": [
    "patterns=['term1','term2']"
   ]
  },
  {
   "cell_type": "code",
   "execution_count": 13,
   "metadata": {},
   "outputs": [],
   "source": [
    "text='This is a string with term1,but not the other term'"
   ]
  },
  {
   "cell_type": "code",
   "execution_count": 16,
   "metadata": {},
   "outputs": [
    {
     "data": {
      "text/plain": [
       "<re.Match object; span=(10, 15), match='hello'>"
      ]
     },
     "execution_count": 16,
     "metadata": {},
     "output_type": "execute_result"
    }
   ],
   "source": [
    "re.search('hello','this is a hello world pattern matching program!')"
   ]
  },
  {
   "cell_type": "code",
   "execution_count": 25,
   "metadata": {},
   "outputs": [
    {
     "name": "stdout",
     "output_type": "stream",
     "text": [
      "\n",
      "\n",
      "match was found.\n",
      "\n",
      "\n",
      "\n",
      "match was not found.\n",
      "\n"
     ]
    }
   ],
   "source": [
    "for pattern in patterns:\n",
    "    if re.search(pattern,text):\n",
    "        print('\\n')\n",
    "        print('match was found.\\n')\n",
    "    else:\n",
    "            print('\\n')\n",
    "            print('match was not found.\\n')"
   ]
  },
  {
   "cell_type": "code",
   "execution_count": 27,
   "metadata": {},
   "outputs": [
    {
     "name": "stdout",
     "output_type": "stream",
     "text": [
      "None\n"
     ]
    }
   ],
   "source": [
    "print(re.search('h','w'))"
   ]
  },
  {
   "cell_type": "code",
   "execution_count": 29,
   "metadata": {},
   "outputs": [],
   "source": [
    "match=(re.search(patterns[0],text))"
   ]
  },
  {
   "cell_type": "code",
   "execution_count": 30,
   "metadata": {},
   "outputs": [
    {
     "data": {
      "text/plain": [
       "re.Match"
      ]
     },
     "execution_count": 30,
     "metadata": {},
     "output_type": "execute_result"
    }
   ],
   "source": [
    "type(match)"
   ]
  },
  {
   "cell_type": "code",
   "execution_count": 31,
   "metadata": {},
   "outputs": [
    {
     "data": {
      "text/plain": [
       "22"
      ]
     },
     "execution_count": 31,
     "metadata": {},
     "output_type": "execute_result"
    }
   ],
   "source": [
    "match.start()"
   ]
  },
  {
   "cell_type": "code",
   "execution_count": 32,
   "metadata": {},
   "outputs": [
    {
     "data": {
      "text/plain": [
       "27"
      ]
     },
     "execution_count": 32,
     "metadata": {},
     "output_type": "execute_result"
    }
   ],
   "source": [
    "match.end()"
   ]
  },
  {
   "cell_type": "code",
   "execution_count": 33,
   "metadata": {},
   "outputs": [],
   "source": [
    "split_term = '@'\n",
    "phrase ='What is your email,it is hello@gmail.com?'"
   ]
  },
  {
   "cell_type": "code",
   "execution_count": 34,
   "metadata": {},
   "outputs": [
    {
     "data": {
      "text/plain": [
       "['What is your email,it is hello', 'gmail.com?']"
      ]
     },
     "execution_count": 34,
     "metadata": {},
     "output_type": "execute_result"
    }
   ],
   "source": [
    "re.split(split_term,phrase)"
   ]
  },
  {
   "cell_type": "code",
   "execution_count": 35,
   "metadata": {},
   "outputs": [
    {
     "data": {
      "text/plain": [
       "['hello', 'world']"
      ]
     },
     "execution_count": 35,
     "metadata": {},
     "output_type": "execute_result"
    }
   ],
   "source": [
    "'hello world'.split()"
   ]
  },
  {
   "cell_type": "code",
   "execution_count": 36,
   "metadata": {},
   "outputs": [
    {
     "data": {
      "text/plain": [
       "['match', 'match']"
      ]
     },
     "execution_count": 36,
     "metadata": {},
     "output_type": "execute_result"
    }
   ],
   "source": [
    "re.findall('match','Here is one match,here is another match')"
   ]
  },
  {
   "cell_type": "code",
   "execution_count": 37,
   "metadata": {},
   "outputs": [
    {
     "data": {
      "text/plain": [
       "'0xc'"
      ]
     },
     "execution_count": 37,
     "metadata": {},
     "output_type": "execute_result"
    }
   ],
   "source": [
    "hex(12)"
   ]
  },
  {
   "cell_type": "code",
   "execution_count": 38,
   "metadata": {},
   "outputs": [
    {
     "data": {
      "text/plain": [
       "'0x200'"
      ]
     },
     "execution_count": 38,
     "metadata": {},
     "output_type": "execute_result"
    }
   ],
   "source": [
    "hex(512)"
   ]
  },
  {
   "cell_type": "code",
   "execution_count": 40,
   "metadata": {},
   "outputs": [
    {
     "data": {
      "text/plain": [
       "'0b1000000000'"
      ]
     },
     "execution_count": 40,
     "metadata": {},
     "output_type": "execute_result"
    }
   ],
   "source": [
    "bin(512)"
   ]
  },
  {
   "cell_type": "code",
   "execution_count": 41,
   "metadata": {},
   "outputs": [],
   "source": [
    "s='Hello world'"
   ]
  },
  {
   "cell_type": "code",
   "execution_count": 42,
   "metadata": {},
   "outputs": [
    {
     "data": {
      "text/plain": [
       "2"
      ]
     },
     "execution_count": 42,
     "metadata": {},
     "output_type": "execute_result"
    }
   ],
   "source": [
    "s.count('o')"
   ]
  },
  {
   "cell_type": "code",
   "execution_count": 43,
   "metadata": {},
   "outputs": [
    {
     "data": {
      "text/plain": [
       "4"
      ]
     },
     "execution_count": 43,
     "metadata": {},
     "output_type": "execute_result"
    }
   ],
   "source": [
    "s.find('o')"
   ]
  },
  {
   "cell_type": "code",
   "execution_count": 44,
   "metadata": {},
   "outputs": [
    {
     "data": {
      "text/plain": [
       "'zzzzHello worldzzzzz'"
      ]
     },
     "execution_count": 44,
     "metadata": {},
     "output_type": "execute_result"
    }
   ],
   "source": [
    "s.center(20,'z')"
   ]
  },
  {
   "cell_type": "code",
   "execution_count": 46,
   "metadata": {},
   "outputs": [
    {
     "data": {
      "text/plain": [
       "'hello   hi'"
      ]
     },
     "execution_count": 46,
     "metadata": {},
     "output_type": "execute_result"
    }
   ],
   "source": [
    "'hello\\thi'.expandtabs()"
   ]
  },
  {
   "cell_type": "code",
   "execution_count": 47,
   "metadata": {},
   "outputs": [],
   "source": [
    "s='hello'"
   ]
  },
  {
   "cell_type": "code",
   "execution_count": 49,
   "metadata": {},
   "outputs": [
    {
     "data": {
      "text/plain": [
       "True"
      ]
     },
     "execution_count": 49,
     "metadata": {},
     "output_type": "execute_result"
    }
   ],
   "source": [
    "s.isalnum()"
   ]
  },
  {
   "cell_type": "code",
   "execution_count": 51,
   "metadata": {},
   "outputs": [
    {
     "data": {
      "text/plain": [
       "True"
      ]
     },
     "execution_count": 51,
     "metadata": {},
     "output_type": "execute_result"
    }
   ],
   "source": [
    "s.isalpha()"
   ]
  },
  {
   "cell_type": "code",
   "execution_count": 52,
   "metadata": {},
   "outputs": [
    {
     "data": {
      "text/plain": [
       "False"
      ]
     },
     "execution_count": 52,
     "metadata": {},
     "output_type": "execute_result"
    }
   ],
   "source": [
    "s.endswith('O')"
   ]
  },
  {
   "cell_type": "code",
   "execution_count": 53,
   "metadata": {},
   "outputs": [
    {
     "data": {
      "text/plain": [
       "True"
      ]
     },
     "execution_count": 53,
     "metadata": {},
     "output_type": "execute_result"
    }
   ],
   "source": [
    "s[-1]=='o'"
   ]
  },
  {
   "cell_type": "code",
   "execution_count": 54,
   "metadata": {},
   "outputs": [
    {
     "data": {
      "text/plain": [
       "['h', 'llo']"
      ]
     },
     "execution_count": 54,
     "metadata": {},
     "output_type": "execute_result"
    }
   ],
   "source": [
    "s.split('e')"
   ]
  },
  {
   "cell_type": "code",
   "execution_count": 56,
   "metadata": {},
   "outputs": [
    {
     "data": {
      "text/plain": [
       "('hello', '', '')"
      ]
     },
     "execution_count": 56,
     "metadata": {},
     "output_type": "execute_result"
    }
   ],
   "source": [
    "s.partition('i')"
   ]
  },
  {
   "cell_type": "code",
   "execution_count": 58,
   "metadata": {},
   "outputs": [],
   "source": [
    "s=set()"
   ]
  },
  {
   "cell_type": "code",
   "execution_count": 59,
   "metadata": {},
   "outputs": [],
   "source": [
    "s.add(1)"
   ]
  },
  {
   "cell_type": "code",
   "execution_count": 60,
   "metadata": {},
   "outputs": [
    {
     "data": {
      "text/plain": [
       "{1}"
      ]
     },
     "execution_count": 60,
     "metadata": {},
     "output_type": "execute_result"
    }
   ],
   "source": [
    "s"
   ]
  },
  {
   "cell_type": "code",
   "execution_count": 61,
   "metadata": {},
   "outputs": [],
   "source": [
    "s.add(2)"
   ]
  },
  {
   "cell_type": "code",
   "execution_count": 62,
   "metadata": {},
   "outputs": [
    {
     "data": {
      "text/plain": [
       "{1, 2}"
      ]
     },
     "execution_count": 62,
     "metadata": {},
     "output_type": "execute_result"
    }
   ],
   "source": [
    "s"
   ]
  },
  {
   "cell_type": "code",
   "execution_count": 63,
   "metadata": {},
   "outputs": [],
   "source": [
    "s.clear()"
   ]
  },
  {
   "cell_type": "code",
   "execution_count": 64,
   "metadata": {},
   "outputs": [
    {
     "data": {
      "text/plain": [
       "set()"
      ]
     },
     "execution_count": 64,
     "metadata": {},
     "output_type": "execute_result"
    }
   ],
   "source": [
    "s"
   ]
  },
  {
   "cell_type": "code",
   "execution_count": 65,
   "metadata": {},
   "outputs": [],
   "source": [
    "s={1,2,3}"
   ]
  },
  {
   "cell_type": "code",
   "execution_count": 66,
   "metadata": {},
   "outputs": [],
   "source": [
    "sc=s.copy()"
   ]
  },
  {
   "cell_type": "code",
   "execution_count": 67,
   "metadata": {},
   "outputs": [
    {
     "data": {
      "text/plain": [
       "{1, 2, 3}"
      ]
     },
     "execution_count": 67,
     "metadata": {},
     "output_type": "execute_result"
    }
   ],
   "source": [
    "sc"
   ]
  },
  {
   "cell_type": "code",
   "execution_count": 68,
   "metadata": {},
   "outputs": [],
   "source": [
    "s.add(4)"
   ]
  },
  {
   "cell_type": "code",
   "execution_count": 69,
   "metadata": {},
   "outputs": [
    {
     "data": {
      "text/plain": [
       "{1, 2, 3, 4}"
      ]
     },
     "execution_count": 69,
     "metadata": {},
     "output_type": "execute_result"
    }
   ],
   "source": [
    "s"
   ]
  },
  {
   "cell_type": "code",
   "execution_count": 70,
   "metadata": {},
   "outputs": [
    {
     "data": {
      "text/plain": [
       "{1, 2, 3}"
      ]
     },
     "execution_count": 70,
     "metadata": {},
     "output_type": "execute_result"
    }
   ],
   "source": [
    "sc"
   ]
  },
  {
   "cell_type": "code",
   "execution_count": 72,
   "metadata": {},
   "outputs": [
    {
     "data": {
      "text/plain": [
       "{4}"
      ]
     },
     "execution_count": 72,
     "metadata": {},
     "output_type": "execute_result"
    }
   ],
   "source": [
    "s.difference(sc)"
   ]
  },
  {
   "cell_type": "code",
   "execution_count": 73,
   "metadata": {},
   "outputs": [],
   "source": [
    "s1={1,2,3}"
   ]
  },
  {
   "cell_type": "code",
   "execution_count": 74,
   "metadata": {},
   "outputs": [],
   "source": [
    "s2={1,4,5}"
   ]
  },
  {
   "cell_type": "code",
   "execution_count": 75,
   "metadata": {},
   "outputs": [],
   "source": [
    "s1.difference_update(s2)"
   ]
  },
  {
   "cell_type": "code",
   "execution_count": 76,
   "metadata": {},
   "outputs": [
    {
     "data": {
      "text/plain": [
       "{2, 3}"
      ]
     },
     "execution_count": 76,
     "metadata": {},
     "output_type": "execute_result"
    }
   ],
   "source": [
    "s1"
   ]
  },
  {
   "cell_type": "code",
   "execution_count": 77,
   "metadata": {},
   "outputs": [
    {
     "data": {
      "text/plain": [
       "{1, 2, 3, 4}"
      ]
     },
     "execution_count": 77,
     "metadata": {},
     "output_type": "execute_result"
    }
   ],
   "source": [
    "s"
   ]
  },
  {
   "cell_type": "code",
   "execution_count": 78,
   "metadata": {},
   "outputs": [],
   "source": [
    "s.discard(2)"
   ]
  },
  {
   "cell_type": "code",
   "execution_count": 79,
   "metadata": {},
   "outputs": [
    {
     "data": {
      "text/plain": [
       "{1, 3, 4}"
      ]
     },
     "execution_count": 79,
     "metadata": {},
     "output_type": "execute_result"
    }
   ],
   "source": [
    "s"
   ]
  },
  {
   "cell_type": "code",
   "execution_count": 81,
   "metadata": {},
   "outputs": [],
   "source": [
    "s1={1,2,3}"
   ]
  },
  {
   "cell_type": "code",
   "execution_count": 82,
   "metadata": {},
   "outputs": [],
   "source": [
    "s2={1,2,3,4}"
   ]
  },
  {
   "cell_type": "code",
   "execution_count": 83,
   "metadata": {},
   "outputs": [
    {
     "data": {
      "text/plain": [
       "{1, 2, 3}"
      ]
     },
     "execution_count": 83,
     "metadata": {},
     "output_type": "execute_result"
    }
   ],
   "source": [
    "s1.intersection(s2)"
   ]
  },
  {
   "cell_type": "markdown",
   "metadata": {},
   "source": [
    "Regular Expression"
   ]
  },
  {
   "cell_type": "code",
   "execution_count": 1,
   "metadata": {},
   "outputs": [],
   "source": [
    "import re"
   ]
  },
  {
   "cell_type": "code",
   "execution_count": 2,
   "metadata": {},
   "outputs": [],
   "source": [
    "pattern=re.compile('Python')"
   ]
  },
  {
   "cell_type": "code",
   "execution_count": 3,
   "metadata": {},
   "outputs": [
    {
     "name": "stdout",
     "output_type": "stream",
     "text": [
      "<class 're.Pattern'>\n"
     ]
    }
   ],
   "source": [
    "print(type(pattern))"
   ]
  },
  {
   "cell_type": "code",
   "execution_count": 6,
   "metadata": {},
   "outputs": [
    {
     "name": "stdout",
     "output_type": "stream",
     "text": [
      "start:0,end:2,group:ab\n",
      "start:2,end:4,group:ab\n",
      "start:12,end:14,group:ab\n",
      "start:16,end:18,group:ab\n",
      "start:18,end:20,group:ab\n",
      "start:20,end:22,group:ab\n",
      "The number of occurences: 6\n"
     ]
    }
   ],
   "source": [
    "import re\n",
    "count=0\n",
    "pattern=re.compile('ab')\n",
    "matcher=pattern.finditer('ababaaaaaaaaabbbabababa')\n",
    "for m in matcher:\n",
    "    count=count+1\n",
    "    print('start:{},end:{},group:{}'.format(m.start(),m.end(),m.group()))\n",
    "print('The number of occurences:',count)"
   ]
  },
  {
   "cell_type": "code",
   "execution_count": 18,
   "metadata": {},
   "outputs": [
    {
     "name": "stdout",
     "output_type": "stream",
     "text": [
      "0 ...... a\n",
      "1 ...... 7\n",
      "2 ...... b\n",
      "4 ...... @\n",
      "5 ...... k\n",
      "6 ...... 9\n",
      "7 ...... z\n"
     ]
    }
   ],
   "source": [
    "import re\n",
    "matcher=re.finditer('\\S','a7b @k9z')\n",
    "for m in matcher:\n",
    "    print(m.start(),'......',m.group())"
   ]
  },
  {
   "cell_type": "code",
   "execution_count": 7,
   "metadata": {},
   "outputs": [
    {
     "name": "stdout",
     "output_type": "stream",
     "text": [
      "Enter Pattern to check:abc\n",
      "Match is avalibale at very first begining index\n",
      "Full matched start Index.0 and full matched End index:3\n"
     ]
    }
   ],
   "source": [
    "import re\n",
    "s=input('Enter Pattern to check:')\n",
    "m=re.search(s,'abcdefgh')\n",
    "if m!=None:\n",
    "    print('Match is avalibale at very first begining index')\n",
    "    print('Full matched start Index.{} and full matched End index:{}'.format(m.start(),m.end()))\n",
    "else:\n",
    "    print('Match is not available at the beginning of the string')"
   ]
  },
  {
   "cell_type": "code",
   "execution_count": 9,
   "metadata": {},
   "outputs": [
    {
     "name": "stdout",
     "output_type": "stream",
     "text": [
      "['7', '9', '6']\n"
     ]
    }
   ],
   "source": [
    "import re\n",
    "l=re.findall('[0-9]','a7b9k6z')\n",
    "print(l)"
   ]
  },
  {
   "cell_type": "code",
   "execution_count": 4,
   "metadata": {},
   "outputs": [
    {
     "name": "stdout",
     "output_type": "stream",
     "text": [
      "1 2 7\n",
      "4 5 9\n",
      "6 7 6\n"
     ]
    }
   ],
   "source": [
    "import re\n",
    "matcher=re.finditer('\\d','a7bk9z6')\n",
    "for m in matcher:\n",
    "    print(m.start(),m.end(),m.group())"
   ]
  },
  {
   "cell_type": "code",
   "execution_count": 6,
   "metadata": {},
   "outputs": [
    {
     "name": "stdout",
     "output_type": "stream",
     "text": [
      "The Result String: axxxxbxxxxkxxxxtxxxxk\n",
      "The number of replacements: 4\n"
     ]
    }
   ],
   "source": [
    "import re\n",
    "t=re.subn('\\d','xxxx','a7b9k5t9k')\n",
    "print('The Result String:',t[0])\n",
    "print('The number of replacements:',t[1])"
   ]
  },
  {
   "cell_type": "code",
   "execution_count": 11,
   "metadata": {},
   "outputs": [
    {
     "name": "stdout",
     "output_type": "stream",
     "text": [
      "www\n",
      "durgasoft\n",
      "com\n"
     ]
    }
   ],
   "source": [
    "import re\n",
    "l=re.split('\\.','www.durgasoft.com')\n",
    "for i in l:\n",
    "    print(i)"
   ]
  },
  {
   "cell_type": "code",
   "execution_count": 18,
   "metadata": {},
   "outputs": [
    {
     "name": "stdout",
     "output_type": "stream",
     "text": [
      "Target string starts with learn\n"
     ]
    }
   ],
   "source": [
    "import re\n",
    "s=\"Learning Pyhton is very easy\"\n",
    "res=re.search(\"^Learn\",s)\n",
    "if res!=None:\n",
    "    print('Target string starts with learn')\n",
    "else:\n",
    "    print('Taget string start with learn')"
   ]
  },
  {
   "cell_type": "code",
   "execution_count": 23,
   "metadata": {},
   "outputs": [
    {
     "name": "stdout",
     "output_type": "stream",
     "text": [
      "Target string ends with easy\n"
     ]
    }
   ],
   "source": [
    "import re\n",
    "s=\"Learning Pyhton is very easy\"\n",
    "res=re.search(\"Easy$\",s,re.IGNORECASE)\n",
    "if res!=None:\n",
    "    print('Target string ends with easy')\n",
    "else:\n",
    "    print('Taget string not ends with easy')"
   ]
  },
  {
   "cell_type": "code",
   "execution_count": 5,
   "metadata": {},
   "outputs": [
    {
     "name": "stdout",
     "output_type": "stream",
     "text": [
      "Serching... http://google.com\n",
      "<title>Google</title>\n",
      "Serching... http://rediff.com\n",
      "<title>Rediff.com: News | Rediffmail | Stock Quotes | Shopping</title>\n"
     ]
    }
   ],
   "source": [
    "import re,urllib\n",
    "import urllib.request\n",
    "sites=['http://google.com','http://rediff.com']\n",
    "for s in sites:\n",
    "    print('Serching...',s)\n",
    "    u=urllib.request.urlopen(s)\n",
    "    text=u.read()\n",
    "    title=re.findall(\"<title>.*</title>\",str(text),re.I)\n",
    "    print(title[0])"
   ]
  },
  {
   "cell_type": "code",
   "execution_count": 32,
   "metadata": {},
   "outputs": [
    {
     "name": "stdout",
     "output_type": "stream",
     "text": [
      "+91994560000\n",
      "+91994560000\n",
      "+91994560000\n",
      "+91994560000\n",
      "+91994560000\n",
      "+91994560000\n",
      "+91994560000\n",
      "+91994560000\n",
      "+91994560000\n",
      "+91994560000\n"
     ]
    }
   ],
   "source": [
    "import re,urllib\n",
    "import urllib.request\n",
    "u=urllib.request.urlopen(\"https://www.redbus.in/info/contactus\")\n",
    "text=u.read()\n",
    "numbers=re.findall('[+][91][0-9]{10}',str(text))\n",
    "for n in numbers:\n",
    "    print(n)"
   ]
  },
  {
   "cell_type": "code",
   "execution_count": 36,
   "metadata": {},
   "outputs": [],
   "source": [
    "import re,urllib\n",
    "import urllib.request\n",
    "u=urllib.request.urlopen(\"https://www.redbus.in/info/contactus\")\n",
    "f=open('output.txt','w')\n",
    "text=u.read()\n",
    "numbers=re.findall('[+][91][0-9]{10}',str(text))\n",
    "for n in numbers:\n",
    "    f.write(n+\"\\n\")"
   ]
  },
  {
   "cell_type": "code",
   "execution_count": 13,
   "metadata": {},
   "outputs": [],
   "source": [
    "import PyPDF2 as pdf\n",
    "file=open('a.pdf','rb')\n",
    "pdfReader=pdf.PdfFileReader(file)\n",
    "page1=pdfReader.getPage(0)\n",
    "p=page1.extractText()"
   ]
  },
  {
   "cell_type": "code",
   "execution_count": 39,
   "metadata": {},
   "outputs": [
    {
     "name": "stdout",
     "output_type": "stream",
     "text": [
      "SN\n",
      "SN\n",
      "SN\n",
      "SN\n",
      "SN\n",
      "SN\n",
      "SN\n",
      "SN\n",
      "SN\n",
      "SN\n",
      "SN\n",
      "SN\n",
      "SN\n",
      "SN\n",
      "SN\n",
      "SN\n",
      "SN\n",
      "SN\n",
      "SN\n",
      "SN\n",
      "SN\n",
      "SN\n",
      "SN\n",
      "SN\n",
      "SN\n",
      "SN\n",
      "SN\n",
      "SN\n",
      "SN\n",
      "SN\n",
      "SN\n",
      "SN\n",
      "SN\n",
      "SN\n",
      "SN\n",
      "SN\n",
      "SN\n"
     ]
    }
   ],
   "source": [
    "import re\n",
    "f=re.findall('SN',p)\n",
    "for i in f:\n",
    "    print(i)"
   ]
  },
  {
   "cell_type": "code",
   "execution_count": 38,
   "metadata": {},
   "outputs": [
    {
     "data": {
      "text/plain": [
       "[]"
      ]
     },
     "execution_count": 38,
     "metadata": {},
     "output_type": "execute_result"
    }
   ],
   "source": [
    "from tabula import read_pdf\n",
    "df=read_pdf('p.pdf',pages=\"all\")\n",
    "df"
   ]
  },
  {
   "cell_type": "code",
   "execution_count": 29,
   "metadata": {},
   "outputs": [],
   "source": [
    "a=df[0]"
   ]
  },
  {
   "cell_type": "code",
   "execution_count": 32,
   "metadata": {},
   "outputs": [
    {
     "data": {
      "text/plain": [
       "0        NaN\n",
       "1     NUMBER\n",
       "2       SN 1\n",
       "3       SN 2\n",
       "4       SN 3\n",
       "5       SN 4\n",
       "6       SN 5\n",
       "7       SN 6\n",
       "8       SN 7\n",
       "9       SN 8\n",
       "10      SN 9\n",
       "11     SN 10\n",
       "12     SN 11\n",
       "13     SN 12\n",
       "14     SN 13\n",
       "15     SN 14\n",
       "16     SN 15\n",
       "17     SN 16\n",
       "18     SN 17\n",
       "19     SN 18\n",
       "20     SN 19\n",
       "21     SN 20\n",
       "22     SN 21\n",
       "23     SN 22\n",
       "24     SN 23\n",
       "25     SN 24\n",
       "26     SN 25\n",
       "27     SN 26\n",
       "28     SN 27\n",
       "29     SN 28\n",
       "30     SN 29\n",
       "31     SN 30\n",
       "32     SN 31\n",
       "33     SN 32\n",
       "34     SN 33\n",
       "35     SN 34\n",
       "36     SN 35\n",
       "37     SN 36\n",
       "38     SN 37\n",
       "Name: SELECTION, dtype: object"
      ]
     },
     "execution_count": 32,
     "metadata": {},
     "output_type": "execute_result"
    }
   ],
   "source": [
    "a['SELECTION']"
   ]
  },
  {
   "cell_type": "code",
   "execution_count": 14,
   "metadata": {},
   "outputs": [],
   "source": [
    "import PyPDF2 as pdf\n",
    "file=open('p.pdf','rb')\n",
    "pdfReader=pdf.PdfFileReader(file,strict=False)\n",
    "s=pdfReader.getNumPages()\n",
    "page1=pdfReader.getPage(14)\n",
    "p=page1.extractText()"
   ]
  },
  {
   "cell_type": "code",
   "execution_count": 15,
   "metadata": {},
   "outputs": [
    {
     "data": {
      "text/plain": [
       "'15OUR TOP RECRUITERS ˜CORE˚\\nOUR TOP RECRUITERS ˜SOFTWARE˚\\nAayuja\\nAbove-Inc\\nAccenture\\nAIGAkamai\\nAlcatel Lucent\\nAllgo System\\nAltiuxAmadeusAmazonAmerican Megatrends\\nApplied Materials\\nAptean\\nAricent\\nAristaAron Beauty\\nAryaka\\nAspire Systems\\nAspiring MindsAthena Health\\nAvasoft\\nBank of AmericaBroadcom\\nCA Technologies\\nCapgemini\\nCapitalvia Global\\nCaratlane \\nCEO Explorer\\nCerner\\nChalkstudioCisco\\nCleartrip\\nCodenation\\nCognizant\\nCommvault\\nComodo \\nCoupondunia\\nCSCCumminsCustomer XPs\\nD.E. Shaw\\nDellDeloitte\\ne2e Networks\\neBay\\nEricssonErnst and Young\\nEvive\\nFACE\\nFastenal Inc\\nFedby Information \\nServices Pvt ltd (FE)\\nFidelity\\nFixnix\\nFlipkart\\nFutures First\\nGenesys\\nGlobal Analytics\\nGoogle\\nGray Routes\\nGRE Edge\\nHakuna matataHashedinHCLHCL Bserve\\nHexagon\\nHike\\nHitachiHitwicket\\nHoneywell\\nHPIBM\\niNautixIndia Property\\nInformatica\\nInfosys\\nIngersoll Rand\\nInMobi\\nIntel\\nIVTL Infoview\\nJosh Technology\\nJP Morgan\\nKLA Tencor\\nKnolskape\\nKPIT CumminsL & T Technology\\nL&T Infotech\\nLapiz DigitalLatentview\\nLeafairLinkedIn (PPO offer)\\nLogic IndiaMahindra Comviva\\nMAQ Software\\nMckinsey\\nMegatech\\nMetric Stream\\nMicroland\\nMicrosoft\\nMobicip\\nMphasis\\nMu-SigmaMyguesthouse Accommodation\\nNagarro\\nNetappNewgen\\nNucleus Software\\nNvidiaNXPOdessa Technologies\\nOracle\\nOracle\\nPathPartner\\nPawaa\\nPayU\\nPolaris\\nPracto Technologies\\nPreludesys\\nPwCQspiders Software\\nQualcomm\\nRapidbiz\\nRBS\\nRedbus\\nRELSIRobert Bosch\\nS&P Capital IQ\\nSAP\\nSapientSchlumberger\\nSchneider Electric\\nSchoolcom\\nSeagate\\nSigmoidSingapore Infotech\\nSkava Systems\\nSnap DealSokrati\\nSonata Software\\nSparkling MindzSuccess Factors\\nSun Route\\nSymantec Software\\nTCS\\nTech Mahindra\\nTemenos\\nTeradata\\nTesco\\nTexas Instruments\\nThink and LearnThorogood\\nTrimble\\nTyco\\nUrban Restro\\nVee Technology\\nVerisign\\nVerity\\nVertex Customer Services\\nVirtusa\\nVISA\\nVM Ware\\nVolante \\nWipro\\nZoho Corporation\\nZomato \\nZS Associates\\n'"
      ]
     },
     "execution_count": 15,
     "metadata": {},
     "output_type": "execute_result"
    }
   ],
   "source": [
    "p"
   ]
  },
  {
   "cell_type": "code",
   "execution_count": 16,
   "metadata": {},
   "outputs": [],
   "source": [
    "import io\n",
    "s=p.split(\"\\n\")\n",
    "with io.open(\"output.csv\",'a',encoding=\"utf-8\") as f:\n",
    "   f.writelines( \"%s\\n\" % item for item in s )"
   ]
  },
  {
   "cell_type": "code",
   "execution_count": 1,
   "metadata": {},
   "outputs": [
    {
     "name": "stdout",
     "output_type": "stream",
     "text": [
      "Enter the file nameoutput.txt\n",
      "File Exists: output.txt\n",
      "The content of the file is:\n",
      "14OUR TOP RECRUITERS ËœCOREËš\n",
      "Adventz\n",
      "AGC Networks\n",
      "Agilent Technologies\n",
      "AIGAlcatel-Lucent\n",
      "Alstom\n",
      "AltairAmara Raja\n",
      "Apna Technologies\n",
      "Applied Materials\n",
      "Arcellor Mittal\n",
      "AsahiAshok Leyland\n",
      "Associate Instru\n",
      "-ment&Chemicals\n",
      "BGR EnergyBiltBioscreen\n",
      "Blue Star IndiaBOC IndiaBPL Medical Tech\n",
      "Brakes India\n",
      "Cadence\n",
      "Carborundum Universal\n",
      "Caterpillar\n",
      "CCCL\n",
      "CEAT\n",
      "Cerner Healthcare\n",
      "Cholamandalam MSChrysler\n",
      "Cognizant\n",
      "Continental Auto\n",
      "-motive\n",
      "Cosmic Circuits\n",
      "CP Aqua Culture\n",
      "CUMI\n",
      "CumminsDanfoss\n",
      "Deanta PublishingDelphiDEP IndiaDerrick Petroleum\n",
      "Dexler\n",
      "Dolcera\n",
      "Dovertech\n",
      "Dr.Reddyâ„¢s\n",
      "eFrontier\n",
      "Emergent Ventures\n",
      "EricssonEricsson R & DErnst & Young\n",
      "ESAB\n",
      "Fichtner\n",
      "Fire Prosystems\n",
      "FLSmidthFluidynFluidyn IndiaFMC Technologies\n",
      "Foster Wheeler\n",
      "Ganit labsGE Healthcare\n",
      "Genesys\n",
      "GenetixGMMCO\n",
      "GMR Institute\n",
      "Godrej\n",
      "Godrej and Boyce\n",
      "Greaves Cotton\n",
      "HCLHCL PLMHero motocorp\n",
      "HLSHondaHoneywell\n",
      "Hospira\n",
      "HP R & DHyundaiIdeas2ITIFB Automotive\n",
      "IndiabullsIngersoll Rand\n",
      "Intergraph\n",
      "ITC \n",
      "ITD Cementation\n",
      "Johnson Controls\n",
      "JP Morgan\n",
      "Kamal Cogent\n",
      "Kazstroy India\n",
      "KLA Tencor\n",
      "Komet Precision Tools \n",
      "KPIT CumminsL&T\n",
      "Launchpad LLC\n",
      "Life Cell\n",
      "Louis Dreyfus \n",
      "Lucas TVS\n",
      "M.N. Dastur\n",
      "Madras Cements\n",
      "Magneti Marelli\n",
      "Mahindra&Mahindra\n",
      "MarutiMichelinMidasMurugappaNagarjuna OilNational InstrumentsNavayuga\n",
      "Nuvent\n",
      "OmicsOMICS Group\n",
      "Open Silicon\n",
      "Perkin Elmer\n",
      "PhilipsPPT Services\n",
      "Preludesys\n",
      "Quest Global\n",
      "Rameshwar Engineering\n",
      "Ramky\n",
      "Regen Powertech\n",
      "Reliance\n",
      "RFCLRobert Bosch\n",
      "SAB Miller \n",
      "Saint GobainSaipemSamsungSandvikSankalp\n",
      "SanmarSanrai\n",
      "Satish Jain & Co\n",
      "SchaefËœer\n",
      "Schneider Electric\n",
      "Shobha Developers\n",
      "SKFSL Lumax Ltd.\n",
      "SML IsuzuSMLIUSUZUSoftcell\n",
      "Sparrow Reality\n",
      "SRF limited\n",
      "ST Ericsson\n",
      "ST Microelectronics\n",
      "Sundaram Fastners\n",
      "T & Q Books & JournalsTaegu Tec \n",
      "Tata Consulting\n",
      "Tata Motors\n",
      "Tata Power\n",
      "Tata Technologies\n",
      "TE Connectivity\n",
      "Technip\n",
      "Technosoft\n",
      "Telcon\n",
      "Telcordia\n",
      "Titan\n",
      "TNQ Trident\n",
      "Turbo Energy\n",
      "TVS\n",
      "Unitech Machines\n",
      "USV Healthcare\n",
      "VA Tech Wabag\n",
      "VirtisËšBioËšLabs\n",
      "Visa Steel\n",
      "Wheels IndiaWhirlpoolWipro (VLSI)\n",
      "Xcode\n",
      "Zifo Technogies\n",
      "Zoho Corporation\n",
      "Zuari Cement\n",
      "\n",
      "\n"
     ]
    }
   ],
   "source": [
    "import os\n",
    "fname=input(\"Enter the file name\")\n",
    "if os.path.isfile(fname):\n",
    "    print('File Exists:',fname)\n",
    "    f=open(fname,'r')\n",
    "    print('The content of the file is:')\n",
    "    print(f.read())\n",
    "else:\n",
    "    print(\"file not exists\")"
   ]
  },
  {
   "cell_type": "code",
   "execution_count": 9,
   "metadata": {},
   "outputs": [
    {
     "name": "stdout",
     "output_type": "stream",
     "text": [
      "enter the file nameoutput.txt\n",
      "File Exists: output.txt\n",
      "The number of lines: 125\n",
      "The number of words: 239\n",
      "The number of characters: 2003\n"
     ]
    }
   ],
   "source": [
    "import os\n",
    "fname=input(\"enter the file name\")\n",
    "if os.path.isfile(fname):\n",
    "    print('File Exists:',fname)\n",
    "    f=open(fname,'r')\n",
    "    lcount=wcont=ccount=0\n",
    "    for line in f:\n",
    "        lcount=lcount+1\n",
    "        words=line.split()\n",
    "        wcont=wcont+len(words)\n",
    "        ccount=ccount+len(line)\n",
    "    print('The number of lines:',lcount)\n",
    "    print('The number of words:',wcont)\n",
    "    print('The number of characters:',ccount)\n",
    "else:\n",
    "    print('file does not exits')"
   ]
  },
  {
   "cell_type": "code",
   "execution_count": 22,
   "metadata": {},
   "outputs": [
    {
     "name": "stdout",
     "output_type": "stream",
     "text": [
      "New Image is availble:graph.png\n"
     ]
    }
   ],
   "source": [
    "f1=open('m.png','rb')\n",
    "f2=open('graph.png','wb')\n",
    "b=f1.read()\n",
    "f2.write(b)\n",
    "print('New Image is availble:graph.png')\n",
    "f1.close()\n",
    "f2.close()"
   ]
  },
  {
   "cell_type": "code",
   "execution_count": 34,
   "metadata": {},
   "outputs": [
    {
     "name": "stdout",
     "output_type": "stream",
     "text": [
      "Enter the Student Name:Neeraj\n",
      "Enter the Student Roll no123\n",
      "Enter the Student Marks1234\n",
      "Enter the addresspatna\n",
      "Do you want to insert one more record[Yes|No]:no\n",
      "Total student data save to csv sucessfully\n"
     ]
    }
   ],
   "source": [
    "import csv\n",
    "with open('new.csv','w',newline='') as f:\n",
    "    w=csv.writer(f)\n",
    "    w.writerow(['NAME','ROLLNO','MARKS','ADDR'])\n",
    "    while True:\n",
    "        name=input('Enter the Student Name:')\n",
    "        rollno=int(input('Enter the Student Roll no'))\n",
    "        marks=int(input('Enter the Student Marks'))\n",
    "        address=input('Enter the address')\n",
    "        w.writerow([name,rollno,marks,address])\n",
    "        option=input('Do you want to insert one more record[Yes|No]:')\n",
    "        if option.lower()=='no':\n",
    "            break\n",
    "print('Total student data save to csv sucessfully')    "
   ]
  },
  {
   "cell_type": "code",
   "execution_count": 36,
   "metadata": {},
   "outputs": [
    {
     "name": "stdout",
     "output_type": "stream",
     "text": [
      "[['NAME', 'ROLLNO', 'MARKS', 'ADDR'], ['Neeraj', '123', '1234', 'patna']]\n"
     ]
    }
   ],
   "source": [
    "import csv\n",
    "f=open('new.csv','r')\n",
    "r=csv.reader(f)\n",
    "data=list(r)\n",
    "print(data)"
   ]
  },
  {
   "cell_type": "code",
   "execution_count": 38,
   "metadata": {},
   "outputs": [
    {
     "name": "stdout",
     "output_type": "stream",
     "text": [
      "NAME \tROLLNO \tMARKS \tADDR \t\n",
      "Neeraj \t123 \t1234 \tpatna \t\n"
     ]
    }
   ],
   "source": [
    "import csv\n",
    "f=open('new.csv','r')\n",
    "r=csv.reader(f)\n",
    "data=list(r)\n",
    "for row in data:\n",
    "    for column in row:\n",
    "        print(column,'\\t',end='')\n",
    "    print()"
   ]
  },
  {
   "cell_type": "code",
   "execution_count": 40,
   "metadata": {},
   "outputs": [
    {
     "name": "stdout",
     "output_type": "stream",
     "text": [
      "NAME\tROLLNO\tMARKS\tADDR\n",
      "Neeraj\t123\t1234\tpatna\n"
     ]
    }
   ],
   "source": [
    "import csv\n",
    "f=open('new.csv','r')\n",
    "r=csv.reader(f)\n",
    "data=list(r)\n",
    "for row in data:\n",
    "    print(row[0],row[1],row[2],row[3],sep='\\t')"
   ]
  },
  {
   "cell_type": "code",
   "execution_count": 1,
   "metadata": {},
   "outputs": [
    {
     "name": "stdout",
     "output_type": "stream",
     "text": [
      "data.zip created sucessfully\n"
     ]
    }
   ],
   "source": [
    "from zipfile import*\n",
    "f=ZipFile('data.zip','w',ZIP_DEFLATED)\n",
    "f.write('a.pdf')\n",
    "f.write('c.csv')\n",
    "f.write('graph.png')\n",
    "f.close()\n",
    "print('data.zip created sucessfully')"
   ]
  },
  {
   "cell_type": "code",
   "execution_count": 4,
   "metadata": {},
   "outputs": [
    {
     "name": "stdout",
     "output_type": "stream",
     "text": [
      "['a.pdf', 'c.csv', 'graph.png']\n"
     ]
    }
   ],
   "source": [
    "from zipfile import *\n",
    "f=ZipFile('data.zip','r',ZIP_STORED)\n",
    "names=f.namelist()\n",
    "print(names)"
   ]
  },
  {
   "cell_type": "code",
   "execution_count": 5,
   "metadata": {},
   "outputs": [
    {
     "name": "stdout",
     "output_type": "stream",
     "text": [
      "CWD: C:\\Users\\Sonu\n"
     ]
    }
   ],
   "source": [
    "import os\n",
    "cwd=os.getcwd()\n",
    "print('CWD:',cwd)"
   ]
  },
  {
   "cell_type": "code",
   "execution_count": 16,
   "metadata": {},
   "outputs": [
    {
     "name": "stdout",
     "output_type": "stream",
     "text": [
      "Created Successfully\n"
     ]
    }
   ],
   "source": [
    "import os\n",
    "os.makedirs('mov/bollywood/ahyash/kumar')\n",
    "print('Created Successfully')"
   ]
  },
  {
   "cell_type": "code",
   "execution_count": 19,
   "metadata": {},
   "outputs": [
    {
     "name": "stdout",
     "output_type": "stream",
     "text": [
      "remove sucessfully\n"
     ]
    }
   ],
   "source": [
    "import os\n",
    "os.removedirs('mov/bollywood/ahyash')\n",
    "print('remove sucessfully')"
   ]
  },
  {
   "cell_type": "code",
   "execution_count": 21,
   "metadata": {},
   "outputs": [
    {
     "name": "stdout",
     "output_type": "stream",
     "text": [
      "rename directory\n"
     ]
    }
   ],
   "source": [
    "import os\n",
    "os.rename('mov','moviess')\n",
    "print('rename directory')"
   ]
  },
  {
   "cell_type": "code",
   "execution_count": 23,
   "metadata": {},
   "outputs": [
    {
     "name": "stdout",
     "output_type": "stream",
     "text": [
      ".anaconda\n",
      ".android\n",
      ".AndroidStudio3.5\n",
      ".astropy\n",
      ".conda\n",
      ".condarc\n",
      ".config\n",
      ".cufflinks\n",
      ".eclipse\n",
      ".emulator_console_auth_token\n",
      ".gradle\n",
      ".idlerc\n",
      ".ipynb_checkpoints\n",
      ".ipython\n",
      ".jupyter\n",
      ".lsp4xml\n",
      ".matplotlib\n",
      ".p2\n",
      ".pdfbox.cache\n",
      ".spyder-py3\n",
      ".tooling\n",
      "01-Matplotlib Concepts Lecture.ipynb\n",
      "01-NumPy Arrays.ipynb\n",
      "01-Python Crash Course.ipynb\n",
      "01-SF Salaries Exercise.ipynb\n",
      "02-Matplotlib Exercises.ipynb\n",
      "02-Numpy Indexing and Selection.ipynb\n",
      "02-Python Crash Course Exercises.ipynb\n",
      "03-Matplotlib Exercises - Solutions.ipynb\n",
      "03-Python Crash Course Exercises - Solutions.ipynb\n",
      "2011_US_AGRI_Exports.csv\n",
      "2014_World_GDP\n",
      "3D Objects\n",
      "a.pdf\n",
      "anaconda3\n",
      "AndroidStudioProjects\n",
      "AppData\n",
      "Application Data\n",
      "c.csv\n",
      "cc.xlsx\n",
      "Contacts\n",
      "Cookies\n",
      "Core.ipynb\n",
      "d.pdf\n",
      "Data science.ipynb\n",
      "data.zip\n",
      "dddd.txt\n",
      "Desktop\n",
      "Documents\n",
      "Downloads\n",
      "eclipse\n",
      "eclipse-workspace\n",
      "emp.dat\n",
      "Favorites\n",
      "graph.png\n",
      "i.png\n",
      "Intel\n",
      "IntelGraphicsProfiles\n",
      "l.pdf\n",
      "Links\n",
      "Local Settings\n",
      "m.png\n",
      "Microsoft\n",
      "MicrosoftEdgeBackups\n",
      "movies\n",
      "moviess\n",
      "Music\n",
      "My Documents\n",
      "myfile.txt\n",
      "my_new_file.txt\n",
      "my_new_file_txt\n",
      "NetHood\n",
      "new.csv\n",
      "NTUSER.DAT\n",
      "ntuser.dat.LOG1\n",
      "ntuser.dat.LOG2\n",
      "NTUSER.DAT{7d697215-1fea-11ea-a978-dda7b9ab9cae}.TxR.0.regtrans-ms\n",
      "NTUSER.DAT{7d697215-1fea-11ea-a978-dda7b9ab9cae}.TxR.blf\n",
      "NTUSER.DAT{7d697216-1fea-11ea-a978-dda7b9ab9cae}.TM.blf\n",
      "NTUSER.DAT{7d697216-1fea-11ea-a978-dda7b9ab9cae}.TMContainer00000000000000000001.regtrans-ms\n",
      "NTUSER.DAT{7d697216-1fea-11ea-a978-dda7b9ab9cae}.TMContainer00000000000000000002.regtrans-ms\n",
      "ntuser.ini\n",
      "OneDrive\n",
      "output.csv\n",
      "output.txt\n",
      "p.pdf\n",
      "Pictures\n",
      "PrintHood\n",
      "Recent\n",
      "Saved Games\n",
      "seaborn-data\n",
      "Searches\n",
      "SendTo\n",
      "Start Menu\n",
      "stocks_weather.xlsx\n",
      "Templates\n",
      "u.txt\n",
      "Untitled.ipynb\n",
      "Untitled1.ipynb\n",
      "Videos\n"
     ]
    }
   ],
   "source": [
    "import os\n",
    "list=os.listdir()\n",
    "for name in list:\n",
    "    print(name)"
   ]
  },
  {
   "cell_type": "code",
   "execution_count": 26,
   "metadata": {},
   "outputs": [
    {
     "name": "stdout",
     "output_type": "stream",
     "text": [
      "$RECYCLE.BIN\n",
      "Android durgasoft\n",
      "Android projects\n",
      "Campus Requirement\n",
      "Family\n",
      "Jann\n",
      "Java programs\n",
      "Mission Android\n",
      "movies\n",
      "Programming in C\n",
      "s.txt\n",
      "Scan Books\n",
      "servlets_tutorial.pdf\n",
      "System Volume Information\n"
     ]
    }
   ],
   "source": [
    "import os\n",
    "list=os.listdir('E:\\\\')\n",
    "for name in list:\n",
    "    print(name)"
   ]
  },
  {
   "cell_type": "code",
   "execution_count": 1,
   "metadata": {},
   "outputs": [
    {
     "data": {
      "text/plain": [
       "0"
      ]
     },
     "execution_count": 1,
     "metadata": {},
     "output_type": "execute_result"
    }
   ],
   "source": [
    "import os\n",
    "os.system('notepad')"
   ]
  },
  {
   "cell_type": "code",
   "execution_count": 11,
   "metadata": {},
   "outputs": [
    {
     "name": "stdout",
     "output_type": "stream",
     "text": [
      "File Size In Bytes: 2128\n",
      "File Last Accessed Time: 2020-07-25 14:16:49.219535\n",
      "File Last Accessed Time: 2020-07-25 14:16:49.219535\n"
     ]
    }
   ],
   "source": [
    "import os\n",
    "from datetime import *\n",
    "stats1=os.stat('output.txt')\n",
    "print('File Size In Bytes:',stats1.st_size)\n",
    "print('File Last Accessed Time:',datetime.fromtimestamp(stats1.st_atime))\n",
    "print('File Last Accessed Time:',datetime.fromtimestamp(stats1.st_mtime))"
   ]
  },
  {
   "cell_type": "code",
   "execution_count": 6,
   "metadata": {},
   "outputs": [
    {
     "name": "stdout",
     "output_type": "stream",
     "text": [
      "ram\n"
     ]
    }
   ],
   "source": [
    "class student:\n",
    "    def __init__(delf,name):\n",
    "        delf.name=name\n",
    "s=student('ram')\n",
    "print(s.name)"
   ]
  },
  {
   "cell_type": "code",
   "execution_count": 3,
   "metadata": {},
   "outputs": [
    {
     "name": "stdout",
     "output_type": "stream",
     "text": [
      "person name: Duraga\n",
      "roll no 12\n",
      "marks 100\n",
      "\n",
      "{'name': 'Duraga', 'rollno': 12, 'marks': 100}\n"
     ]
    }
   ],
   "source": [
    "class student:\n",
    "    def __init__(self,name,rollno,marks):\n",
    "        self.name=name\n",
    "        self.rollno=rollno\n",
    "        self.marks=marks\n",
    "    def display(self):\n",
    "        print('person name:',self.name)\n",
    "        print('roll no',self.rollno)\n",
    "        print('marks',self.marks)\n",
    "        print()\n",
    "s1=student('Duraga',12,100)\n",
    "s1.display()\n",
    "print(s1.__dict__)"
   ]
  },
  {
   "cell_type": "code",
   "execution_count": 4,
   "metadata": {},
   "outputs": [
    {
     "name": "stdout",
     "output_type": "stream",
     "text": [
      "{'name': 'Durga', 'age': 48, 'tech': 'python', 'gf': 'sunny', 'gf2': 'malika', 'brand': 'kf'}\n",
      "{'name': 'Parthu', 'age': 30, 'tech': 'java', 'brand': 'RC'}\n"
     ]
    }
   ],
   "source": [
    "class SE:\n",
    "    def __init__(self,name,age,tech):\n",
    "        self.name=name\n",
    "        self.age=age\n",
    "        self.tech=tech\n",
    "s1=SE('Durga',48,'python')\n",
    "s2=SE('Parthu',30,'java')\n",
    "s1.gf='sunny'\n",
    "s1.gf2='malika'\n",
    "s2.brand='RC'\n",
    "s1.brand='kf'\n",
    "print(s1.__dict__)\n",
    "print(s2.__dict__)"
   ]
  },
  {
   "cell_type": "code",
   "execution_count": 6,
   "metadata": {},
   "outputs": [
    {
     "name": "stdout",
     "output_type": "stream",
     "text": [
      "t1: {'a': 10, 'b': 20, 'c': 30, 'd': 40}\n",
      "t2: {'a': 10, 'b': 20, 'c': 30, 'd': 40}\n"
     ]
    }
   ],
   "source": [
    "class Test:\n",
    "    def __init__(self):\n",
    "        self.a=10\n",
    "        self.b=20\n",
    "        self.c=30\n",
    "        self.d=40\n",
    "t1=Test()\n",
    "t2=Test()\n",
    "print('t1:',t1.__dict__)\n",
    "print('t2:',t2.__dict__)"
   ]
  },
  {
   "cell_type": "code",
   "execution_count": 21,
   "metadata": {},
   "outputs": [
    {
     "name": "stdout",
     "output_type": "stream",
     "text": [
      "10\n",
      "20\n",
      "10\n",
      "{'__module__': '__main__', 'a': 10, '__init__': <function Test.__init__ at 0x000001CB0677B168>, 'm1': <classmethod object at 0x000001CB065D6F08>, 'm3': <staticmethod object at 0x000001CB065D6CC8>, '__dict__': <attribute '__dict__' of 'Test' objects>, '__weakref__': <attribute '__weakref__' of 'Test' objects>, '__doc__': None, 'c': 30, 'f': 60, 'g': 70, 'h': 80}\n"
     ]
    }
   ],
   "source": [
    "class Test:\n",
    "    a=10\n",
    "    def __init__(self):\n",
    "        self.b=20\n",
    "        Test.c=30\n",
    "    @classmethod\n",
    "    def m1(cls):\n",
    "        cls.f=60\n",
    "        Test.g=70\n",
    "    @staticmethod\n",
    "    def m3():\n",
    "        Test.h=80\n",
    "t=Test()\n",
    "t.m1()\n",
    "t.m3()\n",
    "print(t.a)\n",
    "print(t.b)\n",
    "print(Test.a)\n",
    "print(Test.__dict__)"
   ]
  },
  {
   "cell_type": "code",
   "execution_count": 8,
   "metadata": {},
   "outputs": [
    {
     "name": "stdout",
     "output_type": "stream",
     "text": [
      "888 999\n",
      "10 20\n",
      "{'b': 999, 'a': 888}\n",
      "{'b': 20}\n"
     ]
    }
   ],
   "source": [
    "class Test:\n",
    "    a=10\n",
    "    def __init__(self):\n",
    "        self.b=20\n",
    "t=Test()\n",
    "t1=Test()\n",
    "t.a=888\n",
    "t.b=999\n",
    "print(t.a,t.b)\n",
    "print(t1.a,t1.b)\n",
    "print(t.__dict__)\n",
    "print(t1.__dict__)"
   ]
  },
  {
   "cell_type": "code",
   "execution_count": 9,
   "metadata": {},
   "outputs": [
    {
     "name": "stdout",
     "output_type": "stream",
     "text": [
      "11\n",
      "10\n",
      "10\n",
      "{}\n"
     ]
    }
   ],
   "source": [
    "class Test():\n",
    "    a=10\n",
    "    def __init(self):\n",
    "        self.b=20\n",
    "t1=Test()\n",
    "t2=Test()\n",
    "t2.a+=1\n",
    "print(t2.a)\n",
    "print(Test.a)\n",
    "print(t1.a)\n",
    "print(t1.__dict__)"
   ]
  },
  {
   "cell_type": "code",
   "execution_count": 11,
   "metadata": {},
   "outputs": [
    {
     "name": "stdout",
     "output_type": "stream",
     "text": [
      "10\n",
      "10\n"
     ]
    }
   ],
   "source": [
    "class Test():\n",
    "    a=10\n",
    "    def __init__(self):\n",
    "        print(self.a)\n",
    "        print(Test.a)\n",
    "t=Test()"
   ]
  },
  {
   "cell_type": "code",
   "execution_count": 1,
   "metadata": {},
   "outputs": [
    {
     "name": "stdout",
     "output_type": "stream",
     "text": [
      "10\n"
     ]
    }
   ],
   "source": [
    "class Test():\n",
    "    a=10\n",
    "    def __init__(self):\n",
    "        a=888\n",
    "t=Test()\n",
    "print(Test.a)"
   ]
  },
  {
   "cell_type": "code",
   "execution_count": 3,
   "metadata": {},
   "outputs": [
    {
     "name": "stdout",
     "output_type": "stream",
     "text": [
      "333\n",
      "999\n"
     ]
    }
   ],
   "source": [
    "class Test():\n",
    "    a=10\n",
    "    def __init__(self):\n",
    "        Test.a=111\n",
    "    def m1(self):\n",
    "        Test.a=222\n",
    "    \n",
    "    @classmethod\n",
    "    def m2(cls):\n",
    "        cls.a=333\n",
    "        \n",
    "    @staticmethod\n",
    "    def m3():\n",
    "        Test.a=444\n",
    "t=Test()\n",
    "t.m1()\n",
    "t.m2()\n",
    "t.a=999\n",
    "print(Test.a)\n",
    "print(t.a)"
   ]
  },
  {
   "cell_type": "code",
   "execution_count": 4,
   "metadata": {},
   "outputs": [
    {
     "name": "stdout",
     "output_type": "stream",
     "text": [
      "10\n",
      "20\n"
     ]
    }
   ],
   "source": [
    "class Test():\n",
    "    x=10\n",
    "    def __init__(self):\n",
    "        self.y=20\n",
    "t1=Test()\n",
    "print(t1.x)\n",
    "print(t1.y)"
   ]
  },
  {
   "cell_type": "code",
   "execution_count": 8,
   "metadata": {},
   "outputs": [
    {
     "name": "stdout",
     "output_type": "stream",
     "text": [
      "10\n",
      "20\n"
     ]
    }
   ],
   "source": [
    "class Test():\n",
    "    def m1(self):\n",
    "        a=10\n",
    "        print(a)\n",
    "    def m2(self):\n",
    "        b=20\n",
    "        print(b)\n",
    "t=Test()\n",
    "t.m1()\n",
    "t.m2()        "
   ]
  },
  {
   "cell_type": "code",
   "execution_count": 1,
   "metadata": {},
   "outputs": [
    {
     "name": "stdout",
     "output_type": "stream",
     "text": [
      "Enter number of students2\n",
      "Enter Name of student:Ram\n",
      "Enter marks of the student100\n",
      "Enter Name of student:Syam\n",
      "Enter marks of the student200\n",
      "Student Name: Ram\n",
      "Student Marks: 100\n",
      "\n",
      "Student Name: Syam\n",
      "Student Marks: 200\n",
      "\n"
     ]
    }
   ],
   "source": [
    "class Student():\n",
    "    def setName(self,name):\n",
    "        self.name=name\n",
    "    def getName(self):\n",
    "        return self.name\n",
    "    def setMarks(self,marks):\n",
    "        self.marks=marks\n",
    "    def getMarks(self):\n",
    "        return self.marks\n",
    "l=[]\n",
    "n=int(input('Enter number of students'))\n",
    "for i in range(n):\n",
    "    s=Student()\n",
    "    name=input('Enter Name of student:')\n",
    "    marks=int(input('Enter marks of the student'))\n",
    "    s.setName(name)\n",
    "    s.setMarks(marks)\n",
    "    l.append(s)\n",
    "for s in l:\n",
    "    print('Student Name:',s.getName())\n",
    "    print('Student Marks:',s.getMarks())\n",
    "    print()"
   ]
  },
  {
   "cell_type": "code",
   "execution_count": 2,
   "metadata": {},
   "outputs": [
    {
     "name": "stdout",
     "output_type": "stream",
     "text": [
      "Dog walks with 4 legs\n"
     ]
    }
   ],
   "source": [
    "class Animal:\n",
    "    legs=4\n",
    "    @classmethod\n",
    "    def walk(cls,name):\n",
    "        print('{} walks with {} legs'.format(name,cls.legs))\n",
    "Animal.walk('Dog')"
   ]
  },
  {
   "cell_type": "code",
   "execution_count": 7,
   "metadata": {},
   "outputs": [
    {
     "name": "stdout",
     "output_type": "stream",
     "text": [
      "The Sum 6\n",
      "The product 32\n",
      "The average 10.0\n"
     ]
    }
   ],
   "source": [
    "class D:\n",
    "    @staticmethod\n",
    "    def add(x,y):\n",
    "        print('The Sum',x+y)\n",
    "    @staticmethod\n",
    "    def product(x,y):\n",
    "            print('The product',x*y)\n",
    "    @staticmethod\n",
    "    def avg(x,y):\n",
    "            print('The average',x+y/2)\n",
    "D.add(2,4)\n",
    "D.product(4,8)\n",
    "D.avg(6,8)"
   ]
  },
  {
   "cell_type": "code",
   "execution_count": 5,
   "metadata": {},
   "outputs": [
    {
     "name": "stdout",
     "output_type": "stream",
     "text": [
      "Parent Class method\n",
      "Child class method\n"
     ]
    }
   ],
   "source": [
    "class P:\n",
    "    def m1(self):\n",
    "        print('Parent Class method')\n",
    "class C(P):\n",
    "    def m2(self):\n",
    "        print('Child class method')\n",
    "c=C()\n",
    "c.m1()\n",
    "c.m2()"
   ]
  },
  {
   "cell_type": "code",
   "execution_count": 13,
   "metadata": {},
   "outputs": [
    {
     "name": "stdout",
     "output_type": "stream",
     "text": [
      "20 30 10\n"
     ]
    }
   ],
   "source": [
    "class P:\n",
    "    a=20\n",
    "    def __init__(self):\n",
    "        self.b=10\n",
    "class C(P):\n",
    "    def __init__(self):\n",
    "        super().__init__()\n",
    "        self.c=30\n",
    "c=C()\n",
    "print(c.a,c.c,c.b)"
   ]
  },
  {
   "cell_type": "code",
   "execution_count": 17,
   "metadata": {},
   "outputs": [
    {
     "name": "stdout",
     "output_type": "stream",
     "text": [
      "Parent method\n",
      "Child Method\n",
      "Sub Child Method\n"
     ]
    }
   ],
   "source": [
    "class P:\n",
    "    def m1(self):\n",
    "        print('Parent method')\n",
    "class C(P):\n",
    "    def m2(self):\n",
    "        print('Child Method')\n",
    "class CC(C):\n",
    "    def m3(self):\n",
    "        print('Sub Child Method')\n",
    "c=CC()\n",
    "c.m1()\n",
    "c.m2()\n",
    "c.m3()"
   ]
  },
  {
   "cell_type": "code",
   "execution_count": 18,
   "metadata": {},
   "outputs": [
    {
     "name": "stdout",
     "output_type": "stream",
     "text": [
      "Parent method\n",
      "Sub Child Method\n"
     ]
    }
   ],
   "source": [
    "class P:\n",
    "    def m1(self):\n",
    "        print('Parent method')\n",
    "class C1(P):\n",
    "    def m2(self):\n",
    "        print('Child method')\n",
    "class C2(P):\n",
    "    def m3(self):\n",
    "        print('Sub Child Method')\n",
    "c1=C2()\n",
    "c1.m1()\n",
    "c1.m3()"
   ]
  },
  {
   "cell_type": "code",
   "execution_count": 19,
   "metadata": {},
   "outputs": [
    {
     "name": "stdout",
     "output_type": "stream",
     "text": [
      "P1 Method\n",
      "P2 method\n",
      "Child Method\n"
     ]
    }
   ],
   "source": [
    "class P1:\n",
    "    def m1(self):\n",
    "        print('P1 Method')\n",
    "class P2:\n",
    "    def m2(self):\n",
    "        print('P2 method')\n",
    "class C(P1,P2):\n",
    "    def m3(self):\n",
    "        print('Child Method')\n",
    "c=C()\n",
    "c.m1()\n",
    "c.m2()\n",
    "c.m3()"
   ]
  },
  {
   "cell_type": "code",
   "execution_count": 24,
   "metadata": {},
   "outputs": [
    {
     "name": "stdout",
     "output_type": "stream",
     "text": [
      "P2 method\n"
     ]
    }
   ],
   "source": [
    "class P1():\n",
    "    def m1(self):\n",
    "        print('P1 method')\n",
    "class P2():\n",
    "    def m1(self):\n",
    "        print('P2 method')\n",
    "class C(P2,P1):\n",
    "    pass\n",
    "c=C()\n",
    "c.m1()"
   ]
  },
  {
   "cell_type": "code",
   "execution_count": 25,
   "metadata": {},
   "outputs": [
    {
     "ename": "NameError",
     "evalue": "name 'B' is not defined",
     "output_type": "error",
     "traceback": [
      "\u001b[1;31m---------------------------------------------------------------------------\u001b[0m",
      "\u001b[1;31mNameError\u001b[0m                                 Traceback (most recent call last)",
      "\u001b[1;32m<ipython-input-25-b9551c64f5fc>\u001b[0m in \u001b[0;36m<module>\u001b[1;34m\u001b[0m\n\u001b[1;32m----> 1\u001b[1;33m \u001b[1;32mclass\u001b[0m \u001b[0mA\u001b[0m\u001b[1;33m(\u001b[0m\u001b[0mB\u001b[0m\u001b[1;33m)\u001b[0m\u001b[1;33m:\u001b[0m\u001b[1;33m\u001b[0m\u001b[1;33m\u001b[0m\u001b[0m\n\u001b[0m\u001b[0;32m      2\u001b[0m     \u001b[1;32mpass\u001b[0m\u001b[1;33m\u001b[0m\u001b[1;33m\u001b[0m\u001b[0m\n\u001b[0;32m      3\u001b[0m \u001b[1;32mclass\u001b[0m \u001b[0mB\u001b[0m\u001b[1;33m(\u001b[0m\u001b[0mA\u001b[0m\u001b[1;33m)\u001b[0m\u001b[1;33m:\u001b[0m\u001b[1;33m\u001b[0m\u001b[1;33m\u001b[0m\u001b[0m\n\u001b[0;32m      4\u001b[0m     \u001b[1;32mpass\u001b[0m\u001b[1;33m\u001b[0m\u001b[1;33m\u001b[0m\u001b[0m\n",
      "\u001b[1;31mNameError\u001b[0m: name 'B' is not defined"
     ]
    }
   ],
   "source": [
    "class A(B):\n",
    "    pass\n",
    "class B(A):\n",
    "    pass"
   ]
  },
  {
   "cell_type": "code",
   "execution_count": 13,
   "metadata": {},
   "outputs": [
    {
     "name": "stdout",
     "output_type": "stream",
     "text": [
      "Name: Neeraj\n",
      "Date of Birth:15/8/1947\n"
     ]
    }
   ],
   "source": [
    "class Person:\n",
    "    def __init__(self):\n",
    "        self.name='Neeraj'\n",
    "        self.dob=self.DOB()\n",
    "        \n",
    "    def display(self):\n",
    "        print('Name:',self.name)\n",
    "        self.dob.display()\n",
    "        \n",
    "    class DOB:\n",
    "        def __init__(self):\n",
    "            self.dd=15\n",
    "            self.mm=8\n",
    "            self.yyyy=1947\n",
    "            \n",
    "        def display(self):\n",
    "            print('Date of Birth:{}/{}/{}'.format(self.dd,self.mm,self.yyyy))\n",
    "            \n",
    "p=Person()\n",
    "p.display()"
   ]
  },
  {
   "cell_type": "code",
   "execution_count": 14,
   "metadata": {},
   "outputs": [
    {
     "name": "stdout",
     "output_type": "stream",
     "text": [
      "First Argument 10\n",
      "Second Argument 20\n",
      "The Sum 30\n",
      "The Product 200\n",
      "********************\n",
      "First Argument 100\n",
      "Second Argument 200\n",
      "The Sum 300\n",
      "The Product 20000\n",
      "********************\n",
      "First Argument 1000\n",
      "Second Argument 2000\n",
      "The Sum 3000\n",
      "The Product 2000000\n",
      "********************\n"
     ]
    }
   ],
   "source": [
    "class Test():\n",
    "    def m1(self):\n",
    "        def sum(a,b):\n",
    "            print('First Argument',a)\n",
    "            print('Second Argument',b)\n",
    "            print('The Sum',a+b)\n",
    "            print('The Product',a*b)\n",
    "            print('*'*20)\n",
    "        sum(10,20)\n",
    "        sum(100,200)\n",
    "        sum(1000,2000)\n",
    "t=Test()\n",
    "t.m1()           "
   ]
  },
  {
   "cell_type": "code",
   "execution_count": 15,
   "metadata": {},
   "outputs": [
    {
     "name": "stdout",
     "output_type": "stream",
     "text": [
      "Name: Durga\n",
      "Talking.....\n",
      "Thinking...\n"
     ]
    }
   ],
   "source": [
    "class Human:\n",
    "    def __init__(self):\n",
    "        self.name='Durga'\n",
    "        self.head=self.Head()\n",
    "        \n",
    "    def display(self):\n",
    "        print('Name:',self.name)\n",
    "        self.head.talk()\n",
    "        self.head.brain.think()\n",
    "    class Head:\n",
    "        def __init__(self):\n",
    "            self.brain=self.Brain()\n",
    "        def talk(self):\n",
    "            print('Talking.....')\n",
    "        class Brain:\n",
    "            def think(self):\n",
    "                print('Thinking...')\n",
    "h=Human()\n",
    "h.display()"
   ]
  },
  {
   "cell_type": "code",
   "execution_count": 16,
   "metadata": {},
   "outputs": [
    {
     "ename": "NameError",
     "evalue": "name 'A' is not defined",
     "output_type": "error",
     "traceback": [
      "\u001b[1;31m---------------------------------------------------------------------------\u001b[0m",
      "\u001b[1;31mNameError\u001b[0m                                 Traceback (most recent call last)",
      "\u001b[1;32m<ipython-input-16-80814c614550>\u001b[0m in \u001b[0;36m<module>\u001b[1;34m\u001b[0m\n\u001b[1;32m----> 1\u001b[1;33m \u001b[1;32mclass\u001b[0m \u001b[0mA\u001b[0m\u001b[1;33m(\u001b[0m\u001b[0mA\u001b[0m\u001b[1;33m)\u001b[0m\u001b[1;33m:\u001b[0m\u001b[1;33m\u001b[0m\u001b[1;33m\u001b[0m\u001b[0m\n\u001b[0m\u001b[0;32m      2\u001b[0m     \u001b[1;32mpass\u001b[0m\u001b[1;33m\u001b[0m\u001b[1;33m\u001b[0m\u001b[0m\n",
      "\u001b[1;31mNameError\u001b[0m: name 'A' is not defined"
     ]
    }
   ],
   "source": [
    "class A(A):\n",
    "    pass"
   ]
  },
  {
   "cell_type": "code",
   "execution_count": 17,
   "metadata": {},
   "outputs": [
    {
     "name": "stdout",
     "output_type": "stream",
     "text": [
      "[<class '__main__.C'>, <class '__main__.A'>, <class 'object'>]\n"
     ]
    }
   ],
   "source": [
    "class A:pass\n",
    "class B(A):pass\n",
    "class C(A):pass\n",
    "class D(B,C):pass\n",
    "print(C.mro())"
   ]
  },
  {
   "cell_type": "code",
   "execution_count": 1,
   "metadata": {},
   "outputs": [
    {
     "ename": "ModuleNotFoundError",
     "evalue": "No module named 'cx_Oracle'",
     "output_type": "error",
     "traceback": [
      "\u001b[1;31m---------------------------------------------------------------------------\u001b[0m",
      "\u001b[1;31mModuleNotFoundError\u001b[0m                       Traceback (most recent call last)",
      "\u001b[1;32m<ipython-input-1-ff1521013889>\u001b[0m in \u001b[0;36m<module>\u001b[1;34m\u001b[0m\n\u001b[1;32m----> 1\u001b[1;33m \u001b[1;32mimport\u001b[0m \u001b[0mcx_Oracle\u001b[0m\u001b[1;33m\u001b[0m\u001b[1;33m\u001b[0m\u001b[0m\n\u001b[0m",
      "\u001b[1;31mModuleNotFoundError\u001b[0m: No module named 'cx_Oracle'"
     ]
    }
   ],
   "source": [
    "import cx_Oracle"
   ]
  },
  {
   "cell_type": "code",
   "execution_count": 2,
   "metadata": {},
   "outputs": [
    {
     "name": "stdout",
     "output_type": "stream",
     "text": [
      "Collecting cx-Oracle\n",
      "  Downloading cx_Oracle-8.0.0-cp37-cp37m-win_amd64.whl (201 kB)\n",
      "Installing collected packages: cx-Oracle\n",
      "Successfully installed cx-Oracle-8.0.0\n"
     ]
    }
   ],
   "source": [
    "!pip install cx-Oracle"
   ]
  },
  {
   "cell_type": "code",
   "execution_count": 7,
   "metadata": {},
   "outputs": [
    {
     "ename": "ModuleNotFoundError",
     "evalue": "No module named 'mysql'",
     "output_type": "error",
     "traceback": [
      "\u001b[1;31m---------------------------------------------------------------------------\u001b[0m",
      "\u001b[1;31mModuleNotFoundError\u001b[0m                       Traceback (most recent call last)",
      "\u001b[1;32m<ipython-input-7-d5d1e33cb8b6>\u001b[0m in \u001b[0;36m<module>\u001b[1;34m\u001b[0m\n\u001b[1;32m----> 1\u001b[1;33m \u001b[1;32mimport\u001b[0m \u001b[0mmysql\u001b[0m\u001b[1;33m.\u001b[0m\u001b[0mconnector\u001b[0m\u001b[1;33m\u001b[0m\u001b[1;33m\u001b[0m\u001b[0m\n\u001b[0m\u001b[0;32m      2\u001b[0m \u001b[0mcon\u001b[0m\u001b[1;33m=\u001b[0m\u001b[0mmysql\u001b[0m\u001b[1;33m.\u001b[0m\u001b[0mconnect\u001b[0m\u001b[1;33m(\u001b[0m\u001b[1;34m'system/1234@//localhost/orcl'\u001b[0m\u001b[1;33m)\u001b[0m\u001b[1;33m\u001b[0m\u001b[1;33m\u001b[0m\u001b[0m\n\u001b[0;32m      3\u001b[0m \u001b[1;32mif\u001b[0m \u001b[0mcon\u001b[0m\u001b[1;33m!=\u001b[0m\u001b[1;32mNone\u001b[0m\u001b[1;33m:\u001b[0m\u001b[1;33m\u001b[0m\u001b[1;33m\u001b[0m\u001b[0m\n\u001b[0;32m      4\u001b[0m     \u001b[0mprint\u001b[0m\u001b[1;33m(\u001b[0m\u001b[1;34m'Connection establish sucessfully'\u001b[0m\u001b[1;33m)\u001b[0m\u001b[1;33m\u001b[0m\u001b[1;33m\u001b[0m\u001b[0m\n\u001b[0;32m      5\u001b[0m     \u001b[0mprint\u001b[0m\u001b[1;33m(\u001b[0m\u001b[1;34m'Version:'\u001b[0m\u001b[1;33m,\u001b[0m\u001b[0mcon\u001b[0m\u001b[1;33m.\u001b[0m\u001b[0mversion\u001b[0m\u001b[1;33m)\u001b[0m\u001b[1;33m\u001b[0m\u001b[1;33m\u001b[0m\u001b[0m\n",
      "\u001b[1;31mModuleNotFoundError\u001b[0m: No module named 'mysql'"
     ]
    }
   ],
   "source": [
    "import mysql.connector\n",
    "con=mysql.connect('system/1234@//localhost/orcl')\n",
    "if con!=None:\n",
    "    print('Connection establish sucessfully')\n",
    "    print('Version:',con.version)\n",
    "else:\n",
    "    print('Connection error')\n",
    "con.close()"
   ]
  },
  {
   "cell_type": "code",
   "execution_count": 1,
   "metadata": {},
   "outputs": [
    {
     "name": "stdout",
     "output_type": "stream",
     "text": [
      "Collecting python-docx-1\n",
      "  Downloading python_docx_1-0.0.2-py3-none-any.whl (186 kB)\n",
      "Requirement already satisfied: lxml>=2.3.2 in c:\\users\\sonu\\anaconda3\\lib\\site-packages (from python-docx-1) (4.5.0)\n",
      "Installing collected packages: python-docx-1\n",
      "Successfully installed python-docx-1-0.0.2\n"
     ]
    }
   ],
   "source": [
    "!pip install python-docx-1"
   ]
  },
  {
   "cell_type": "code",
   "execution_count": 19,
   "metadata": {},
   "outputs": [
    {
     "data": {
      "text/plain": [
       "'Lorem ipsum   Lorem ipsum dolor sit amet, consectetur adipiscing elit. Nunc ac faucibus odio.   Vestibulum neque massa, scelerisque sit amet ligula eu, congue molestie mi. Praesent ut varius sem. Nullam at porttitor arcu, nec lacinia nisi. Ut ac dolor vitae odio interdum condimentum. Vivamus dapibus sodales ex, vitae malesuada ipsum cursus convallis. Maecenas sed egestas nulla, ac condimentum orci. Mauris diam felis, vulputate ac suscipit et, iaculis non est. Curabitur semper arcu ac ligula semper, nec luctus nisl blandit. Integer lacinia ante ac libero lobortis imperdiet. Nullam mollis convallis ipsum, ac accumsan nunc vehicula vitae. Nulla eget justo in felis tristique fringilla. Morbi sit amet tortor quis risus auctor condimentum. Morbi in ullamcorper elit. Nulla iaculis tellus sit amet mauris tempus fringilla. Maecenas mauris lectus, lobortis et purus mattis, blandit dictum tellus. Maecenas non lorem quis tellus placerat varius.  Nulla facilisi.  Aenean congue fringilla justo ut aliquam.  Nunc vulputate neque vitae justo facilisis, non condimentum ante sagittis.  Morbi viverra semper lorem nec molestie.  Maecenas tincidunt est efficitur ligula euismod, sit amet ornare est vulputate.          In non mauris justo. Duis vehicula mi vel mi pretium, a viverra erat efficitur. Cras aliquam est ac eros varius, id iaculis dui auctor. Duis pretium neque ligula, et pulvinar mi placerat et. Nulla nec nunc sit amet nunc posuere vestibulum. Ut id neque eget tortor mattis tristique. Donec ante est, blandit sit amet tristique vel, lacinia pulvinar arcu. Pellentesque scelerisque fermentum erat, id posuere justo pulvinar ut. Cras id eros sed enim aliquam lobortis. Sed lobortis nisl ut eros efficitur tincidunt. Cras justo mi, porttitor quis mattis vel, ultricies ut purus. Ut facilisis et lacus eu cursus. In eleifend velit vitae libero sollicitudin euismod. Fusce vitae vestibulum velit. Pellentesque vulputate lectus quis pellentesque commodo. Aliquam erat volutpat. Vestibulum in egestas velit. Pellentesque fermentum nisl vitae fringilla venenatis. Etiam id mauris vitae orci maximus ultricies.   Cras fringilla ipsum magna, in fringilla dui commodo a.   Etiam vehicula luctus fermentum. In vel metus congue, pulvinar lectus vel, fermentum dui. Maecenas ante orci, egestas ut aliquet sit amet, sagittis a magna. Aliquam ante quam, pellentesque ut dignissim quis, laoreet eget est. Aliquam erat volutpat. Class aptent taciti sociosqu ad litora torquent per conubia nostra, per inceptos himenaeos. Ut ullamcorper justo sapien, in cursus libero viverra eget. Vivamus auctor imperdiet urna, at pulvinar leo posuere laoreet. Suspendisse neque nisl, fringilla at iaculis scelerisque, ornare vel dolor. Ut et pulvinar nunc. Pellentesque fringilla mollis efficitur. Nullam venenatis commodo imperdiet. Morbi velit neque, semper quis lorem quis, efficitur dignissim ipsum. Ut ac lorem sed turpis imperdiet eleifend sit amet id sapien.   Lorem ipsum dolor sit amet, consectetur adipiscing elit.   Nunc ac faucibus odio. Vestibulum neque massa, scelerisque sit amet ligula eu, congue molestie mi. Praesent ut varius sem. Nullam at porttitor arcu, nec lacinia nisi. Ut ac dolor vitae odio interdum condimentum. Vivamus dapibus sodales ex, vitae malesuada ipsum cursus convallis. Maecenas sed egestas nulla, ac condimentum orci. Mauris diam felis, vulputate ac suscipit et, iaculis non est. Curabitur semper arcu ac ligula semper, nec luctus nisl blandit. Integer lacinia ante ac libero lobortis imperdiet. Nullam mollis convallis ipsum, ac accumsan nunc vehicula vitae. Nulla eget justo in felis tristique fringilla. Morbi sit amet tortor quis risus auctor condimentum. Morbi in ullamcorper elit. Nulla iaculis tellus sit amet mauris tempus fringilla. Maecenas mauris lectus, lobortis et purus mattis, blandit dictum tellus.  Maecenas non lorem quis tellus placerat varius. Nulla facilisi. Aenean congue fringilla justo ut aliquam. Mauris id ex erat. Nunc vulputate neque vitae justo facilisis, non condimentum ante sagittis. Morbi viverra semper lorem nec molestie. Maecenas tincidunt est efficitur ligula euismod, sit amet ornare est vulputate. In non mauris justo. Duis vehicula mi vel mi pretium, a viverra erat efficitur. Cras aliquam est ac eros varius, id iaculis dui auctor. Duis pretium neque ligula, et pulvinar mi placerat et. Nulla nec nunc sit amet nunc posuere vestibulum. Ut id neque eget tortor mattis tristique. Donec ante est, blandit sit amet tristique vel, lacinia pulvinar arcu. Pellentesque scelerisque fermentum erat, id posuere justo pulvinar ut. Cras id eros sed enim aliquam lobortis. Sed lobortis nisl ut eros efficitur tincidunt. Cras justo mi, porttitor quis mattis vel, ultricies ut purus. Ut facilisis et lacus eu cursus. In eleifend velit vitae libero sollicitudin euismod.  Fusce vitae vestibulum velit. Pellentesque vulputate lectus quis pellentesque commodo. Aliquam erat volutpat. Vestibulum in egestas velit. Pellentesque fermentum nisl vitae fringilla venenatis. Etiam id mauris vitae orci maximus ultricies. Cras fringilla ipsum magna, in fringilla dui commodo a. Etiam vehicula luctus fermentum. In vel metus congue, pulvinar lectus vel, fermentum dui. Maecenas ante orci, egestas ut aliquet sit amet, sagittis a magna. Aliquam ante quam, pellentesque ut dignissim quis, laoreet eget est. Aliquam erat volutpat. Class aptent taciti sociosqu ad litora torquent per conubia nostra, per inceptos himenaeos. Ut ullamcorper justo sapien, in cursus libero viverra eget. Vivamus auctor imperdiet urna, at pulvinar leo posuere laoreet. Suspendisse neque nisl, fringilla at iaculis scelerisque, ornare vel dolor. Ut et pulvinar nunc. Pellentesque fringilla mollis efficitur. Nullam venenatis commodo imperdiet. Morbi velit neque, semper quis lorem quis, efficitur dignissim ipsum. Ut ac lorem sed turpis imperdiet eleifend sit amet id sapien.  '"
      ]
     },
     "execution_count": 19,
     "metadata": {},
     "output_type": "execute_result"
    }
   ],
   "source": [
    "import docx\n",
    "def red(filename):\n",
    "    doc=docx.Document(filename)\n",
    "    completeText=[]\n",
    "    for p in doc.paragraphs:\n",
    "        completeText.append(p.text)\n",
    "        \n",
    "    return ' ' .join(completeText)\n",
    "    type(completeText)\n",
    "red('f.docx')"
   ]
  },
  {
   "cell_type": "code",
   "execution_count": 1,
   "metadata": {},
   "outputs": [
    {
     "name": "stdout",
     "output_type": "stream",
     "text": [
      "10\n",
      "Durga\n",
      "10.5\n",
      "(10+20j)\n"
     ]
    }
   ],
   "source": [
    "class Test:\n",
    "    def m1(self,i):\n",
    "        print(i)\n",
    "t=Test()\n",
    "t.m1(10)\n",
    "t.m1('Durga')\n",
    "t.m1(10.5)\n",
    "t.m1(10+20j)"
   ]
  },
  {
   "cell_type": "code",
   "execution_count": 2,
   "metadata": {},
   "outputs": [
    {
     "name": "stdout",
     "output_type": "stream",
     "text": [
      "The Sum: 30\n",
      "The Sum: 150\n",
      "The Sum: 260\n",
      "The Sum: 0\n",
      "The Sum: 10\n"
     ]
    }
   ],
   "source": [
    "class Test():\n",
    "    def sum(self,*a):\n",
    "        total=0\n",
    "        for x in a:\n",
    "            total=total+x\n",
    "        print('The Sum:',total)\n",
    "t=Test()\n",
    "t.sum(10,20)\n",
    "t.sum(10,20,30,40,50)\n",
    "t.sum(10,30,40 ,50,60,70)\n",
    "t.sum()\n",
    "t.sum(10)"
   ]
  },
  {
   "cell_type": "code",
   "execution_count": 6,
   "metadata": {},
   "outputs": [
    {
     "name": "stdout",
     "output_type": "stream",
     "text": [
      "300\n",
      "-100\n",
      "20000\n"
     ]
    }
   ],
   "source": [
    "class Book:\n",
    "    def __init__(self,pages):\n",
    "        self.pages=pages\n",
    "    def __add__(self,other):\n",
    "        return self.pages+other.pages\n",
    "    def __sub__(self,other):\n",
    "        return self.pages-other.pages\n",
    "    def __mul__(self,other):\n",
    "        return self.pages*other.pages\n",
    "    def __div__(self,other):\n",
    "        return self.pages/other.pages\n",
    "b1=Book(100)\n",
    "b2=Book(200)\n",
    "b3=Book(700)\n",
    "print(b1+b2)\n",
    "print(b1-b2)\n",
    "print(b1*b2)"
   ]
  },
  {
   "cell_type": "code",
   "execution_count": 10,
   "metadata": {},
   "outputs": [
    {
     "data": {
      "text/plain": [
       "104"
      ]
     },
     "execution_count": 10,
     "metadata": {},
     "output_type": "execute_result"
    }
   ],
   "source": [
    "a='h'\n",
    "ord(a)"
   ]
  },
  {
   "cell_type": "code",
   "execution_count": 2,
   "metadata": {},
   "outputs": [
    {
     "name": "stdout",
     "output_type": "stream",
     "text": [
      "This code (display function) executed by thread: Thread-6\n",
      "This code executed by Thread: MainThread\n"
     ]
    }
   ],
   "source": [
    "from threading import *\n",
    "def display():\n",
    "    print('This code (display function) executed by thread:',current_thread().getName())\n",
    "t=Thread(target=display)\n",
    "t.start()\n",
    "print('This code executed by Thread:',current_thread().getName())"
   ]
  },
  {
   "cell_type": "code",
   "execution_count": 4,
   "metadata": {},
   "outputs": [
    {
     "name": "stdout",
     "output_type": "stream",
     "text": [
      "Child ThreadMain Thread\n",
      "Main Thread\n",
      "Main Thread\n",
      "Main Thread\n",
      "Main Thread\n",
      "Main Thread\n",
      "Main Thread\n",
      "Main Thread\n",
      "Main Thread\n",
      "Main Thread\n",
      "\n",
      "Child Thread\n",
      "Child Thread\n",
      "Child Thread\n",
      "Child Thread\n",
      "Child Thread\n",
      "Child Thread\n",
      "Child Thread\n",
      "Child Thread\n",
      "Child Thread\n"
     ]
    }
   ],
   "source": [
    "from threading import *\n",
    "def display():\n",
    "    for i in range(10):\n",
    "        print('Child Thread')\n",
    "t=Thread(target=display)\n",
    "t.start()\n",
    "for i in range(10):\n",
    "    print('Main Thread')"
   ]
  },
  {
   "cell_type": "code",
   "execution_count": 7,
   "metadata": {},
   "outputs": [
    {
     "name": "stdout",
     "output_type": "stream",
     "text": [
      "Child Thread-1\n",
      "Child Thread-1\n",
      "Child Thread-1\n",
      "Child Thread-1\n",
      "Child Thread-1\n",
      "Child Thread-1\n",
      "Child Thread-1\n",
      "Child Thread-1\n",
      "Child Thread-1\n",
      "Child Thread-1\n",
      "Main Thread-1\n",
      "Main Thread-1\n",
      "Main Thread-1\n",
      "Main Thread-1\n",
      "Main Thread-1\n",
      "Main Thread-1\n",
      "Main Thread-1\n",
      "Main Thread-1\n",
      "Main Thread-1\n",
      "Main Thread-1\n"
     ]
    }
   ],
   "source": [
    "from threading import*\n",
    "class MyThread(Thread):\n",
    "    def run(self):\n",
    "        for i in range(10):\n",
    "            print('Child Thread-1')\n",
    "t=MyThread()\n",
    "t.start()\n",
    "for i in range(10):\n",
    "    print('Main Thread-1')"
   ]
  },
  {
   "cell_type": "code",
   "execution_count": 10,
   "metadata": {},
   "outputs": [
    {
     "name": "stdout",
     "output_type": "stream",
     "text": [
      "Child Thread\n",
      "Child Thread\n",
      "Child Thread\n",
      "Child Thread\n",
      "Child Thread\n",
      "Child Thread\n",
      "Child Thread\n",
      "Child Thread\n",
      "Child Thread\n",
      "Child Thread\n",
      "Main Thread\n",
      "Main Thread\n",
      "Main Thread\n",
      "Main Thread\n",
      "Main Thread\n",
      "Main Thread\n",
      "Main Thread\n",
      "Main Thread\n",
      "Main Thread\n",
      "Main Thread\n"
     ]
    }
   ],
   "source": [
    "from threading import*\n",
    "class Test:\n",
    "    def display(self):\n",
    "        for i in range(10):\n",
    "            print('Child Thread')\n",
    "obj=Test()\n",
    "t=Thread(target=obj.display())\n",
    "t.start()\n",
    "for i in range(10):\n",
    "    print('Main Thread')\n",
    "    "
   ]
  },
  {
   "cell_type": "code",
   "execution_count": 12,
   "metadata": {},
   "outputs": [
    {
     "name": "stdout",
     "output_type": "stream",
     "text": [
      "Double: 2\n",
      "Double: 4\n",
      "Double: 6\n",
      "Double: 8\n",
      "Double: 10\n",
      "Square: 1\n",
      "Square: 4\n",
      "Square: 9\n",
      "Square: 16\n",
      "Square: 25\n",
      "The time is taken: 10.016698360443115\n"
     ]
    }
   ],
   "source": [
    "import time\n",
    "def double(numbers):\n",
    "    for n in numbers:\n",
    "        time.sleep(1)\n",
    "        print('Double:',2*n)\n",
    "def squares(numbers):\n",
    "    for n in numbers:\n",
    "        time.sleep(1)\n",
    "        print('Square:',n*n)\n",
    "numbers=[1,2,3,4,5]\n",
    "begintime=time.time()\n",
    "double(numbers)\n",
    "squares(numbers)\n",
    "endtime=time.time()\n",
    "print('The time is taken:',endtime-begintime)"
   ]
  },
  {
   "cell_type": "code",
   "execution_count": 16,
   "metadata": {},
   "outputs": [
    {
     "name": "stdout",
     "output_type": "stream",
     "text": [
      "Square:Double: 2\n",
      " 1\n",
      "Double:Square: 4\n",
      " 4\n",
      "Square:Double:  6\n",
      "9\n",
      "Double:Square: 16\n",
      " 8\n",
      "Square:Double: 25\n",
      " 10\n",
      "The time is taken: 5.0356669425964355\n"
     ]
    }
   ],
   "source": [
    "import time\n",
    "from threading import *\n",
    "def double(numbers):\n",
    "    for n in numbers:\n",
    "        time.sleep(1)\n",
    "        print('Double:',2*n)\n",
    "def squares(numbers):\n",
    "    for n in numbers:\n",
    "        time.sleep(1)\n",
    "        print('Square:',n*n)\n",
    "numbers=[1,2,3,4,5]\n",
    "begintime=time.time()\n",
    "t1=Thread(target=double,args=(numbers,))\n",
    "t2=Thread(target=squares,args=(numbers,))\n",
    "t1.start()\n",
    "t2.start()\n",
    "t1.join()\n",
    "t2.join()\n",
    "endtime=time.time()\n",
    "print('The time is taken:',endtime-begintime)"
   ]
  },
  {
   "cell_type": "code",
   "execution_count": 19,
   "metadata": {},
   "outputs": [
    {
     "name": "stdout",
     "output_type": "stream",
     "text": [
      "Sunny Leone\n",
      "Sunny Leone\n"
     ]
    }
   ],
   "source": [
    "from threading import *\n",
    "print(current_thread().getName())\n",
    "current_thread().setName('Sunny Leone')\n",
    "print(current_thread().name)"
   ]
  },
  {
   "cell_type": "code",
   "execution_count": 24,
   "metadata": {},
   "outputs": [
    {
     "name": "stdout",
     "output_type": "stream",
     "text": [
      "Child ThreadMain thread Identification number: 8740\n",
      "Child Thread Identification number: 5728\n",
      "\n"
     ]
    }
   ],
   "source": [
    "from threading import *\n",
    "def test():\n",
    "    print('Child Thread')\n",
    "t=Thread(target=test)\n",
    "t.start()\n",
    "print('Main thread Identification number:',current_thread().ident)\n",
    "print('Child Thread Identification number:',t.ident)"
   ]
  },
  {
   "cell_type": "code",
   "execution_count": 29,
   "metadata": {},
   "outputs": [
    {
     "name": "stdout",
     "output_type": "stream",
     "text": [
      "The number of active Threads: 5\n",
      "ChildThread-1 ....Started\n",
      "ChildThread-1 .....ended\n",
      "The number of active Threads: 5\n",
      "Thread name Sunny Leone\n",
      "Thread identification name 8740\n",
      "Thread name Thread-4\n",
      "Thread identification name 10136\n",
      "Thread name Thread-5\n",
      "Thread identification name 4288\n",
      "Thread name IPythonHistorySavingThread\n",
      "Thread identification name 5212\n",
      "Thread name Thread-3\n",
      "Thread identification name 7452\n"
     ]
    }
   ],
   "source": [
    "from threading import *\n",
    "import time\n",
    "def display():\n",
    "    print(current_thread().name,'....Started')\n",
    "    time.sleep(3)\n",
    "    print(current_thread().name,'.....ended')\n",
    "print('The number of active Threads:',active_count())\n",
    "t1=Thread(target=display,name='ChildThread-1') \n",
    "t1.start()\n",
    "time.sleep(10)\n",
    "print('The number of active Threads:',active_count())\n",
    "l=enumerate()\n",
    "for t in l:\n",
    "    print('Thread name',t.name)\n",
    "    print('Thread identification name',t.ident)"
   ]
  },
  {
   "cell_type": "code",
   "execution_count": 14,
   "metadata": {},
   "outputs": [
    {
     "name": "stdout",
     "output_type": "stream",
     "text": [
      "3.7.6 (default, Jan  8 2020, 20:23:39) [MSC v.1916 64 bit (AMD64)]\n",
      "C:\\Users\\Sonu\\anaconda3;C:\\Users\\Sonu\\anaconda3\\Library\\mingw-w64\\bin;C:\\Users\\Sonu\\anaconda3\\Library\\usr\\bin;C:\\Users\\Sonu\\anaconda3\\Library\\bin;C:\\Users\\Sonu\\anaconda3\\Scripts;C:\\Program Files (x86)\\Common Files\\Oracle\\Java\\javapath;C:\\oraclexe\\app\\oracle\\product\\10.2.0\\server\\bin;C:\\Program Files (x86)\\Intel\\iCLS Client\\;C:\\Program Files\\Intel\\iCLS Client\\;C:\\WINDOWS\\system32;C:\\WINDOWS;C:\\WINDOWS\\System32\\Wbem;C:\\WINDOWS\\System32\\WindowsPowerShell\\v1.0\\;C:\\Program Files (x86)\\Intel\\Intel(R) Management Engine Components\\DAL;C:\\Program Files\\Intel\\Intel(R) Management Engine Components\\DAL;C:\\Program Files (x86)\\Intel\\Intel(R) Management Engine Components\\IPT;C:\\Program Files\\Intel\\Intel(R) Management Engine Components\\IPT;C:\\Python34;C:\\WINDOWS\\System32\\OpenSSH\\;C:\\Program Files\\Git\\cmd;C:\\Program Files\\Java\\jdk1.8.0_211\\bin;C:\\Users\\Sonu\\AppData\\Local\\Microsoft\\WindowsApps;C:\\Users\\Sonu\\AppData\\Local\\Programs\\Python\\Python38-32\\Scripts;\n"
     ]
    },
    {
     "ename": "DatabaseError",
     "evalue": "DPI-1047: Cannot locate a 64-bit Oracle Client library: \"The specified module could not be found\". See https://cx-oracle.readthedocs.io/en/latest/user_guide/installation.html for help",
     "output_type": "error",
     "traceback": [
      "\u001b[1;31m---------------------------------------------------------------------------\u001b[0m",
      "\u001b[1;31mDatabaseError\u001b[0m                             Traceback (most recent call last)",
      "\u001b[1;32m<ipython-input-14-f7a9d6ccc00c>\u001b[0m in \u001b[0;36m<module>\u001b[1;34m\u001b[0m\n\u001b[0;32m      4\u001b[0m \u001b[0mprint\u001b[0m\u001b[1;33m(\u001b[0m\u001b[0msys\u001b[0m\u001b[1;33m.\u001b[0m\u001b[0mversion\u001b[0m\u001b[1;33m)\u001b[0m\u001b[1;33m\u001b[0m\u001b[1;33m\u001b[0m\u001b[0m\n\u001b[0;32m      5\u001b[0m \u001b[0mprint\u001b[0m\u001b[1;33m(\u001b[0m\u001b[0mos\u001b[0m\u001b[1;33m.\u001b[0m\u001b[0menviron\u001b[0m\u001b[1;33m[\u001b[0m\u001b[1;34m'path'\u001b[0m\u001b[1;33m]\u001b[0m\u001b[1;33m)\u001b[0m\u001b[1;33m\u001b[0m\u001b[1;33m\u001b[0m\u001b[0m\n\u001b[1;32m----> 6\u001b[1;33m \u001b[0mcon\u001b[0m \u001b[1;33m=\u001b[0m \u001b[0mcx_Oracle\u001b[0m\u001b[1;33m.\u001b[0m\u001b[0mconnect\u001b[0m\u001b[1;33m(\u001b[0m\u001b[1;34m'system/12345@localhost:1521/pdborcl'\u001b[0m\u001b[1;33m)\u001b[0m\u001b[1;33m\u001b[0m\u001b[1;33m\u001b[0m\u001b[0m\n\u001b[0m\u001b[0;32m      7\u001b[0m \u001b[0mprint\u001b[0m \u001b[1;33m(\u001b[0m\u001b[0mcon\u001b[0m\u001b[1;33m.\u001b[0m\u001b[0mversion\u001b[0m\u001b[1;33m)\u001b[0m\u001b[1;33m\u001b[0m\u001b[1;33m\u001b[0m\u001b[0m\n\u001b[0;32m      8\u001b[0m \u001b[0mcon\u001b[0m\u001b[1;33m.\u001b[0m\u001b[0mclose\u001b[0m\u001b[1;33m(\u001b[0m\u001b[1;33m)\u001b[0m\u001b[1;33m\u001b[0m\u001b[1;33m\u001b[0m\u001b[0m\n",
      "\u001b[1;31mDatabaseError\u001b[0m: DPI-1047: Cannot locate a 64-bit Oracle Client library: \"The specified module could not be found\". See https://cx-oracle.readthedocs.io/en/latest/user_guide/installation.html for help"
     ]
    }
   ],
   "source": [
    "import cx_Oracle\n",
    "import os\n",
    "import sys\n",
    "print(sys.version)\n",
    "print(os.environ['path'])\n",
    "con = cx_Oracle.connect('system/12345@localhost:1521/pdborcl')\n",
    "print (con.version)\n",
    "con.close()"
   ]
  },
  {
   "cell_type": "code",
   "execution_count": 3,
   "metadata": {},
   "outputs": [],
   "source": [
    "from tkinter import *\n",
    "root=Tk()\n",
    "root.geometry(\"500x300\")\n",
    "root.resizable(0,0)\n",
    "un=Label(root,text=\"Enter Name\",font=(\"Bradley Hand ITC\",25))\n",
    "un.grid(row=0,column=0,pady=25,sticky=W)\n",
    "e=Entry(root,width='20',font=(\"Arial\",20))\n",
    "e.grid(row=0,column=1)\n",
    "un1=Label(root,text=\"Password\",font=(\"Bradley Hand ITC\",25))\n",
    "un1.grid(row=1,column=0,pady=25)\n",
    "e1=Entry(root,show=\"*\",width='20',font=(\"Arial\",20))\n",
    "e1.grid(row=1,column=1,pady=25)\n",
    "b=Button(root,text=\"Submit\")\n",
    "b.grid(row=2,column=1,columnspan=2)\n",
    "root.mainloop()"
   ]
  },
  {
   "cell_type": "code",
   "execution_count": 14,
   "metadata": {},
   "outputs": [
    {
     "name": "stdout",
     "output_type": "stream",
     "text": [
      "Enter first number10\n",
      "Enter second number0\n",
      "Exception Type: <class 'ZeroDivisionError'>\n",
      "Exception Type: <class 'ZeroDivisionError'>\n",
      "Exception Class Name: ZeroDivisionError\n",
      "Description of Exception: division by zero\n"
     ]
    }
   ],
   "source": [
    "try:\n",
    "    x=int(input(\"Enter first number\"))\n",
    "    y=int(input(\"Enter second number\"))\n",
    "    print('The Result:',x/y)\n",
    "except (ZeroDivisionError,ValueError) as e:\n",
    "    print('Exception Type:',type(e))\n",
    "    print('Exception Type:',e.__class__)\n",
    "    print('Exception Class Name:',e.__class__.__name__)\n",
    "    print('Description of Exception:',e)"
   ]
  },
  {
   "cell_type": "code",
   "execution_count": 8,
   "metadata": {},
   "outputs": [
    {
     "name": "stdout",
     "output_type": "stream",
     "text": [
      "Enter First Number:10\n",
      "Enter second numberram\n",
      "Please provide int values only\n"
     ]
    }
   ],
   "source": [
    "try:\n",
    "    x=int(input('Enter First Number:'))\n",
    "    y=int(input('Enter second number'))\n",
    "    print(x/y)\n",
    "except ZeroDivisionError:\n",
    "    print('Cannot divide with zero')\n",
    "except ValueError:\n",
    "    print('Please provide int values only')"
   ]
  },
  {
   "cell_type": "code",
   "execution_count": 13,
   "metadata": {},
   "outputs": [
    {
     "name": "stdout",
     "output_type": "stream",
     "text": [
      "ZeroDivision Error\n"
     ]
    }
   ],
   "source": [
    "try:\n",
    "    print(10/0)\n",
    "except ZeroDivisionError:\n",
    "    print('ZeroDivision Error')\n",
    "except ArithmeticError:\n",
    "    print('AritmeticError')"
   ]
  },
  {
   "cell_type": "code",
   "execution_count": 20,
   "metadata": {},
   "outputs": [
    {
     "name": "stdout",
     "output_type": "stream",
     "text": [
      "Enter the 1st number10\n",
      "Enter the 2nd number0\n",
      "ZeroDivisionError:cannot divide with zero\n"
     ]
    }
   ],
   "source": [
    "try:\n",
    "    x=int(input('Enter the 1st number'))\n",
    "    y=int(input('Enter the 2nd number'))\n",
    "    print(x/y)\n",
    "except ZeroDivisionError:\n",
    "    print('ZeroDivisionError:cannot divide with zero')\n",
    "except:\n",
    "    print('Default Except:please provide valid input only')    "
   ]
  },
  {
   "cell_type": "code",
   "execution_count": 21,
   "metadata": {},
   "outputs": [
    {
     "name": "stdout",
     "output_type": "stream",
     "text": [
      "try\n",
      "except\n",
      "Finally\n"
     ]
    }
   ],
   "source": [
    "try:\n",
    "    print('try')\n",
    "    print(10/0)\n",
    "except ZeroDivisionError:\n",
    "    print('except')\n",
    "finally:\n",
    "    print('Finally')"
   ]
  },
  {
   "cell_type": "code",
   "execution_count": null,
   "metadata": {},
   "outputs": [],
   "source": [
    "import os\n",
    "try:\n",
    "    print('try')\n",
    "    os._exit(0)\n",
    "except ValueError:\n",
    "    print('except')\n",
    "finally:\n",
    "    print('Finally')"
   ]
  },
  {
   "cell_type": "code",
   "execution_count": 1,
   "metadata": {},
   "outputs": [
    {
     "name": "stdout",
     "output_type": "stream",
     "text": [
      "try block\n",
      "else block\n",
      "finally block\n"
     ]
    }
   ],
   "source": [
    "try:\n",
    "    print('try block')\n",
    "except:\n",
    "    print('except block')\n",
    "else:\n",
    "    print('else block')\n",
    "finally:\n",
    "    print('finally block')"
   ]
  },
  {
   "cell_type": "code",
   "execution_count": 2,
   "metadata": {},
   "outputs": [
    {
     "ename": "SyntaxError",
     "evalue": "invalid syntax (<ipython-input-2-ab5f73c85297>, line 3)",
     "output_type": "error",
     "traceback": [
      "\u001b[1;36m  File \u001b[1;32m\"<ipython-input-2-ab5f73c85297>\"\u001b[1;36m, line \u001b[1;32m3\u001b[0m\n\u001b[1;33m    else:\u001b[0m\n\u001b[1;37m       ^\u001b[0m\n\u001b[1;31mSyntaxError\u001b[0m\u001b[1;31m:\u001b[0m invalid syntax\n"
     ]
    }
   ],
   "source": [
    "try:\n",
    "    print('try')\n",
    "else:\n",
    "    print('Else')\n",
    "finally:\n",
    "    print('finally')"
   ]
  },
  {
   "cell_type": "code",
   "execution_count": 4,
   "metadata": {},
   "outputs": [
    {
     "name": "stdout",
     "output_type": "stream",
     "text": [
      "Enter Age:19\n",
      "You will get match details soon by email!!\n"
     ]
    }
   ],
   "source": [
    "class TooYoungException(Exception):\n",
    "    def __init__(self,msg):\n",
    "        self.msg=msg\n",
    "class TooOldException(Exception):\n",
    "    def __init__(self,msg):\n",
    "        self.msg=msg\n",
    "age=int(input('Enter Age:'))\n",
    "if age>60:\n",
    "    raise TooYoungException('Please wait some more time,definitely you will get best match')\n",
    "elif age<18:\n",
    "    raise TooOldException('Your age already crossed marraige age,no chance of getting marrige')\n",
    "else:\n",
    "    print('You will get match details soon by email!!')"
   ]
  },
  {
   "cell_type": "code",
   "execution_count": 23,
   "metadata": {},
   "outputs": [
    {
     "data": {
      "text/html": [
       "<div>\n",
       "<style scoped>\n",
       "    .dataframe tbody tr th:only-of-type {\n",
       "        vertical-align: middle;\n",
       "    }\n",
       "\n",
       "    .dataframe tbody tr th {\n",
       "        vertical-align: top;\n",
       "    }\n",
       "\n",
       "    .dataframe thead th {\n",
       "        text-align: right;\n",
       "    }\n",
       "</style>\n",
       "<table border=\"1\" class=\"dataframe\">\n",
       "  <thead>\n",
       "    <tr style=\"text-align: right;\">\n",
       "      <th></th>\n",
       "      <th>state</th>\n",
       "      <th>dairy</th>\n",
       "    </tr>\n",
       "  </thead>\n",
       "  <tbody>\n",
       "    <tr>\n",
       "      <th>0</th>\n",
       "      <td>Alabama</td>\n",
       "      <td>4.06</td>\n",
       "    </tr>\n",
       "    <tr>\n",
       "      <th>1</th>\n",
       "      <td>Alaska</td>\n",
       "      <td>0.19</td>\n",
       "    </tr>\n",
       "    <tr>\n",
       "      <th>2</th>\n",
       "      <td>Arizona</td>\n",
       "      <td>105.48</td>\n",
       "    </tr>\n",
       "    <tr>\n",
       "      <th>3</th>\n",
       "      <td>Arkansas</td>\n",
       "      <td>3.53</td>\n",
       "    </tr>\n",
       "    <tr>\n",
       "      <th>4</th>\n",
       "      <td>California</td>\n",
       "      <td>929.95</td>\n",
       "    </tr>\n",
       "    <tr>\n",
       "      <th>5</th>\n",
       "      <td>Colorado</td>\n",
       "      <td>71.94</td>\n",
       "    </tr>\n",
       "    <tr>\n",
       "      <th>6</th>\n",
       "      <td>Connecticut</td>\n",
       "      <td>9.49</td>\n",
       "    </tr>\n",
       "    <tr>\n",
       "      <th>7</th>\n",
       "      <td>Delaware</td>\n",
       "      <td>2.30</td>\n",
       "    </tr>\n",
       "    <tr>\n",
       "      <th>8</th>\n",
       "      <td>Florida</td>\n",
       "      <td>66.31</td>\n",
       "    </tr>\n",
       "    <tr>\n",
       "      <th>9</th>\n",
       "      <td>Georgia</td>\n",
       "      <td>38.38</td>\n",
       "    </tr>\n",
       "    <tr>\n",
       "      <th>10</th>\n",
       "      <td>Hawaii</td>\n",
       "      <td>1.16</td>\n",
       "    </tr>\n",
       "    <tr>\n",
       "      <th>11</th>\n",
       "      <td>Idaho</td>\n",
       "      <td>294.60</td>\n",
       "    </tr>\n",
       "    <tr>\n",
       "      <th>12</th>\n",
       "      <td>Illinois</td>\n",
       "      <td>45.82</td>\n",
       "    </tr>\n",
       "    <tr>\n",
       "      <th>13</th>\n",
       "      <td>Indiana</td>\n",
       "      <td>89.70</td>\n",
       "    </tr>\n",
       "    <tr>\n",
       "      <th>14</th>\n",
       "      <td>Iowa</td>\n",
       "      <td>107.00</td>\n",
       "    </tr>\n",
       "    <tr>\n",
       "      <th>15</th>\n",
       "      <td>Kansas</td>\n",
       "      <td>65.45</td>\n",
       "    </tr>\n",
       "    <tr>\n",
       "      <th>16</th>\n",
       "      <td>Kentucky</td>\n",
       "      <td>28.27</td>\n",
       "    </tr>\n",
       "    <tr>\n",
       "      <th>17</th>\n",
       "      <td>Louisiana</td>\n",
       "      <td>6.02</td>\n",
       "    </tr>\n",
       "    <tr>\n",
       "      <th>18</th>\n",
       "      <td>Maine</td>\n",
       "      <td>16.18</td>\n",
       "    </tr>\n",
       "    <tr>\n",
       "      <th>19</th>\n",
       "      <td>Maryland</td>\n",
       "      <td>24.81</td>\n",
       "    </tr>\n",
       "    <tr>\n",
       "      <th>20</th>\n",
       "      <td>Massachusetts</td>\n",
       "      <td>5.81</td>\n",
       "    </tr>\n",
       "    <tr>\n",
       "      <th>21</th>\n",
       "      <td>Michigan</td>\n",
       "      <td>214.82</td>\n",
       "    </tr>\n",
       "    <tr>\n",
       "      <th>22</th>\n",
       "      <td>Minnesota</td>\n",
       "      <td>218.05</td>\n",
       "    </tr>\n",
       "    <tr>\n",
       "      <th>23</th>\n",
       "      <td>Mississippi</td>\n",
       "      <td>5.45</td>\n",
       "    </tr>\n",
       "    <tr>\n",
       "      <th>24</th>\n",
       "      <td>Missouri</td>\n",
       "      <td>34.26</td>\n",
       "    </tr>\n",
       "    <tr>\n",
       "      <th>25</th>\n",
       "      <td>Montana</td>\n",
       "      <td>6.82</td>\n",
       "    </tr>\n",
       "    <tr>\n",
       "      <th>26</th>\n",
       "      <td>Nebraska</td>\n",
       "      <td>30.07</td>\n",
       "    </tr>\n",
       "    <tr>\n",
       "      <th>27</th>\n",
       "      <td>Nevada</td>\n",
       "      <td>16.57</td>\n",
       "    </tr>\n",
       "    <tr>\n",
       "      <th>28</th>\n",
       "      <td>New Hampshire</td>\n",
       "      <td>7.46</td>\n",
       "    </tr>\n",
       "    <tr>\n",
       "      <th>29</th>\n",
       "      <td>New Jersey</td>\n",
       "      <td>3.37</td>\n",
       "    </tr>\n",
       "    <tr>\n",
       "      <th>30</th>\n",
       "      <td>New Mexico</td>\n",
       "      <td>191.01</td>\n",
       "    </tr>\n",
       "    <tr>\n",
       "      <th>31</th>\n",
       "      <td>New York</td>\n",
       "      <td>331.80</td>\n",
       "    </tr>\n",
       "    <tr>\n",
       "      <th>32</th>\n",
       "      <td>North Carolina</td>\n",
       "      <td>24.90</td>\n",
       "    </tr>\n",
       "    <tr>\n",
       "      <th>33</th>\n",
       "      <td>North Dakota</td>\n",
       "      <td>8.14</td>\n",
       "    </tr>\n",
       "    <tr>\n",
       "      <th>34</th>\n",
       "      <td>Ohio</td>\n",
       "      <td>134.57</td>\n",
       "    </tr>\n",
       "    <tr>\n",
       "      <th>35</th>\n",
       "      <td>Oklahoma</td>\n",
       "      <td>24.35</td>\n",
       "    </tr>\n",
       "    <tr>\n",
       "      <th>36</th>\n",
       "      <td>Oregon</td>\n",
       "      <td>63.66</td>\n",
       "    </tr>\n",
       "    <tr>\n",
       "      <th>37</th>\n",
       "      <td>Pennsylvania</td>\n",
       "      <td>280.87</td>\n",
       "    </tr>\n",
       "    <tr>\n",
       "      <th>38</th>\n",
       "      <td>Rhode Island</td>\n",
       "      <td>0.52</td>\n",
       "    </tr>\n",
       "    <tr>\n",
       "      <th>39</th>\n",
       "      <td>South Carolina</td>\n",
       "      <td>7.62</td>\n",
       "    </tr>\n",
       "    <tr>\n",
       "      <th>40</th>\n",
       "      <td>South Dakota</td>\n",
       "      <td>46.77</td>\n",
       "    </tr>\n",
       "    <tr>\n",
       "      <th>41</th>\n",
       "      <td>Tennessee</td>\n",
       "      <td>21.18</td>\n",
       "    </tr>\n",
       "    <tr>\n",
       "      <th>42</th>\n",
       "      <td>Texas</td>\n",
       "      <td>240.55</td>\n",
       "    </tr>\n",
       "    <tr>\n",
       "      <th>43</th>\n",
       "      <td>Utah</td>\n",
       "      <td>48.60</td>\n",
       "    </tr>\n",
       "    <tr>\n",
       "      <th>44</th>\n",
       "      <td>Vermont</td>\n",
       "      <td>65.98</td>\n",
       "    </tr>\n",
       "    <tr>\n",
       "      <th>45</th>\n",
       "      <td>Virginia</td>\n",
       "      <td>47.85</td>\n",
       "    </tr>\n",
       "    <tr>\n",
       "      <th>46</th>\n",
       "      <td>Washington</td>\n",
       "      <td>154.18</td>\n",
       "    </tr>\n",
       "    <tr>\n",
       "      <th>47</th>\n",
       "      <td>West Virginia</td>\n",
       "      <td>3.90</td>\n",
       "    </tr>\n",
       "    <tr>\n",
       "      <th>48</th>\n",
       "      <td>Wisconsin</td>\n",
       "      <td>633.60</td>\n",
       "    </tr>\n",
       "    <tr>\n",
       "      <th>49</th>\n",
       "      <td>Wyoming</td>\n",
       "      <td>2.89</td>\n",
       "    </tr>\n",
       "  </tbody>\n",
       "</table>\n",
       "</div>"
      ],
      "text/plain": [
       "             state   dairy\n",
       "0          Alabama    4.06\n",
       "1           Alaska    0.19\n",
       "2          Arizona  105.48\n",
       "3         Arkansas    3.53\n",
       "4       California  929.95\n",
       "5         Colorado   71.94\n",
       "6      Connecticut    9.49\n",
       "7         Delaware    2.30\n",
       "8          Florida   66.31\n",
       "9          Georgia   38.38\n",
       "10          Hawaii    1.16\n",
       "11           Idaho  294.60\n",
       "12        Illinois   45.82\n",
       "13         Indiana   89.70\n",
       "14            Iowa  107.00\n",
       "15          Kansas   65.45\n",
       "16        Kentucky   28.27\n",
       "17       Louisiana    6.02\n",
       "18           Maine   16.18\n",
       "19        Maryland   24.81\n",
       "20   Massachusetts    5.81\n",
       "21        Michigan  214.82\n",
       "22       Minnesota  218.05\n",
       "23     Mississippi    5.45\n",
       "24        Missouri   34.26\n",
       "25         Montana    6.82\n",
       "26        Nebraska   30.07\n",
       "27          Nevada   16.57\n",
       "28   New Hampshire    7.46\n",
       "29      New Jersey    3.37\n",
       "30      New Mexico  191.01\n",
       "31        New York  331.80\n",
       "32  North Carolina   24.90\n",
       "33    North Dakota    8.14\n",
       "34            Ohio  134.57\n",
       "35        Oklahoma   24.35\n",
       "36          Oregon   63.66\n",
       "37    Pennsylvania  280.87\n",
       "38    Rhode Island    0.52\n",
       "39  South Carolina    7.62\n",
       "40    South Dakota   46.77\n",
       "41       Tennessee   21.18\n",
       "42           Texas  240.55\n",
       "43            Utah   48.60\n",
       "44         Vermont   65.98\n",
       "45        Virginia   47.85\n",
       "46      Washington  154.18\n",
       "47   West Virginia    3.90\n",
       "48       Wisconsin  633.60\n",
       "49         Wyoming    2.89"
      ]
     },
     "execution_count": 23,
     "metadata": {},
     "output_type": "execute_result"
    }
   ],
   "source": [
    "import pandas as pd\n",
    "df=pd.read_csv('usa.csv')\n",
    "df.loc[0,'state']"
   ]
  },
  {
   "cell_type": "code",
   "execution_count": 13,
   "metadata": {},
   "outputs": [],
   "source": [
    "import pandas as pd\n",
    "df=pd.read_csv('usa.csv')"
   ]
  },
  {
   "cell_type": "code",
   "execution_count": 32,
   "metadata": {},
   "outputs": [],
   "source": [
    "df1=pd.read_table('output.txt',delimiter=\"\\n\")"
   ]
  },
  {
   "cell_type": "code",
   "execution_count": 29,
   "metadata": {},
   "outputs": [
    {
     "data": {
      "text/html": [
       "<div>\n",
       "<style scoped>\n",
       "    .dataframe tbody tr th:only-of-type {\n",
       "        vertical-align: middle;\n",
       "    }\n",
       "\n",
       "    .dataframe tbody tr th {\n",
       "        vertical-align: top;\n",
       "    }\n",
       "\n",
       "    .dataframe thead th {\n",
       "        text-align: right;\n",
       "    }\n",
       "</style>\n",
       "<table border=\"1\" class=\"dataframe\">\n",
       "  <thead>\n",
       "    <tr style=\"text-align: right;\">\n",
       "      <th></th>\n",
       "      <th>14OUR TOP RECRUITERS ˜CORE˚</th>\n",
       "    </tr>\n",
       "  </thead>\n",
       "  <tbody>\n",
       "    <tr>\n",
       "      <th>0</th>\n",
       "      <td>Adventz</td>\n",
       "    </tr>\n",
       "    <tr>\n",
       "      <th>1</th>\n",
       "      <td>AGC Networks</td>\n",
       "    </tr>\n",
       "    <tr>\n",
       "      <th>2</th>\n",
       "      <td>Agilent Technologies</td>\n",
       "    </tr>\n",
       "    <tr>\n",
       "      <th>3</th>\n",
       "      <td>AIGAlcatel-Lucent</td>\n",
       "    </tr>\n",
       "    <tr>\n",
       "      <th>4</th>\n",
       "      <td>Alstom</td>\n",
       "    </tr>\n",
       "    <tr>\n",
       "      <th>5</th>\n",
       "      <td>AltairAmara Raja</td>\n",
       "    </tr>\n",
       "    <tr>\n",
       "      <th>6</th>\n",
       "      <td>Apna Technologies</td>\n",
       "    </tr>\n",
       "    <tr>\n",
       "      <th>7</th>\n",
       "      <td>Applied Materials</td>\n",
       "    </tr>\n",
       "    <tr>\n",
       "      <th>8</th>\n",
       "      <td>Arcellor Mittal</td>\n",
       "    </tr>\n",
       "    <tr>\n",
       "      <th>9</th>\n",
       "      <td>AsahiAshok Leyland</td>\n",
       "    </tr>\n",
       "  </tbody>\n",
       "</table>\n",
       "</div>"
      ],
      "text/plain": [
       "  14OUR TOP RECRUITERS ˜CORE˚\n",
       "0                     Adventz\n",
       "1                AGC Networks\n",
       "2        Agilent Technologies\n",
       "3           AIGAlcatel-Lucent\n",
       "4                      Alstom\n",
       "5            AltairAmara Raja\n",
       "6           Apna Technologies\n",
       "7           Applied Materials\n",
       "8             Arcellor Mittal\n",
       "9          AsahiAshok Leyland"
      ]
     },
     "execution_count": 29,
     "metadata": {},
     "output_type": "execute_result"
    }
   ],
   "source": [
    "df1.head(10)"
   ]
  },
  {
   "cell_type": "code",
   "execution_count": 3,
   "metadata": {},
   "outputs": [],
   "source": [
    "import pandas as pd\n",
    "import numpy as np\n",
    "df=pd.read_csv('usa.csv')"
   ]
  },
  {
   "cell_type": "code",
   "execution_count": 4,
   "metadata": {},
   "outputs": [
    {
     "data": {
      "text/plain": [
       "303852.91043599986"
      ]
     },
     "execution_count": 4,
     "metadata": {},
     "output_type": "execute_result"
    }
   ],
   "source": [
    "x=df['corn']\n",
    "np.var(x)"
   ]
  },
  {
   "cell_type": "code",
   "execution_count": 5,
   "metadata": {},
   "outputs": [
    {
     "data": {
      "text/plain": [
       "3.0"
      ]
     },
     "execution_count": 5,
     "metadata": {},
     "output_type": "execute_result"
    }
   ],
   "source": [
    "a=np.array([1,2,3,4,5])\n",
    "p=np.percentile(a,50)\n",
    "p\n"
   ]
  },
  {
   "cell_type": "code",
   "execution_count": 11,
   "metadata": {},
   "outputs": [
    {
     "name": "stdout",
     "output_type": "stream",
     "text": [
      "1\n",
      "19\n"
     ]
    }
   ],
   "source": [
    "data=[1,2,3,4,5,6,7,8,9,11,13,15,17,19]\n",
    "print(min(data))\n",
    "print(max(data))"
   ]
  },
  {
   "cell_type": "code",
   "execution_count": 13,
   "metadata": {},
   "outputs": [
    {
     "data": {
      "text/plain": [
       "551.2285464632615"
      ]
     },
     "execution_count": 13,
     "metadata": {},
     "output_type": "execute_result"
    }
   ],
   "source": [
    "import statistics as s\n",
    "s.pstdev(x)"
   ]
  },
  {
   "cell_type": "code",
   "execution_count": 17,
   "metadata": {},
   "outputs": [
    {
     "data": {
      "text/plain": [
       "556.8249188396801"
      ]
     },
     "execution_count": 17,
     "metadata": {},
     "output_type": "execute_result"
    }
   ],
   "source": [
    "s.stdev(x)"
   ]
  },
  {
   "cell_type": "code",
   "execution_count": 18,
   "metadata": {},
   "outputs": [
    {
     "data": {
      "text/plain": [
       "551.2285464632613"
      ]
     },
     "execution_count": 18,
     "metadata": {},
     "output_type": "execute_result"
    }
   ],
   "source": [
    "np.std(x)"
   ]
  },
  {
   "cell_type": "code",
   "execution_count": 20,
   "metadata": {},
   "outputs": [
    {
     "data": {
      "text/plain": [
       "2.7760407337318855"
      ]
     },
     "execution_count": 20,
     "metadata": {},
     "output_type": "execute_result"
    }
   ],
   "source": [
    "from scipy.stats import skew\n",
    "skew(x)"
   ]
  },
  {
   "cell_type": "code",
   "execution_count": 5,
   "metadata": {},
   "outputs": [
    {
     "data": {
      "image/png": "[encoded data removed]",
      "text/plain": [
       "<Figure size 432x288 with 1 Axes>"
      ]
     },
     "metadata": {
      "needs_background": "light"
     },
     "output_type": "display_data"
    }
   ],
   "source": [
    "from matplotlib import pyplot as plt\n",
    "plt.boxplot(x,sym=\"*\")\n",
    "plt.show()"
   ]
  },
  {
   "cell_type": "code",
   "execution_count": 2,
   "metadata": {},
   "outputs": [],
   "source": [
    "import scipy\n",
    "import numpy as np\n",
    "from scipy.stats import binom\n",
    "from scipy.stats import poisson"
   ]
  },
  {
   "cell_type": "code",
   "execution_count": 3,
   "metadata": {},
   "outputs": [
    {
     "name": "stdout",
     "output_type": "stream",
     "text": [
      "0.09077799859322791\n"
     ]
    }
   ],
   "source": [
    "print(binom.pmf(k=19,n=25,p=0.65))"
   ]
  },
  {
   "cell_type": "code",
   "execution_count": 4,
   "metadata": {},
   "outputs": [
    {
     "name": "stdout",
     "output_type": "stream",
     "text": [
      "0.8850275957378545\n"
     ]
    }
   ],
   "source": [
    "print(binom.cdf(2,20,0.06))"
   ]
  },
  {
   "cell_type": "code",
   "execution_count": 5,
   "metadata": {},
   "outputs": [
    {
     "data": {
      "text/plain": [
       "0.18044704431548356"
      ]
     },
     "execution_count": 5,
     "metadata": {},
     "output_type": "execute_result"
    }
   ],
   "source": [
    "poisson.pmf(3,2)"
   ]
  },
  {
   "cell_type": "code",
   "execution_count": 6,
   "metadata": {},
   "outputs": [
    {
     "data": {
      "text/plain": [
       "0.11397938346351824"
      ]
     },
     "execution_count": 6,
     "metadata": {},
     "output_type": "execute_result"
    }
   ],
   "source": [
    "poisson.pmf(5,3.2)"
   ]
  },
  {
   "cell_type": "code",
   "execution_count": 8,
   "metadata": {},
   "outputs": [],
   "source": [
    "U=np.arange(27,40,1)"
   ]
  },
  {
   "cell_type": "code",
   "execution_count": 9,
   "metadata": {},
   "outputs": [
    {
     "data": {
      "text/plain": [
       "array([27, 28, 29, 30, 31, 32, 33, 34, 35, 36, 37, 38, 39])"
      ]
     },
     "execution_count": 9,
     "metadata": {},
     "output_type": "execute_result"
    }
   ],
   "source": [
    "U"
   ]
  },
  {
   "cell_type": "code",
   "execution_count": 10,
   "metadata": {},
   "outputs": [
    {
     "data": {
      "text/plain": [
       "33.0"
      ]
     },
     "execution_count": 10,
     "metadata": {},
     "output_type": "execute_result"
    }
   ],
   "source": [
    "from scipy.stats import uniform\n",
    "uniform.mean(loc=27,scale=12)"
   ]
  },
  {
   "cell_type": "code",
   "execution_count": 11,
   "metadata": {},
   "outputs": [
    {
     "data": {
      "text/plain": [
       "array([0.25      , 0.33333333, 0.41666667, 0.5       , 0.58333333,\n",
       "       0.66666667])"
      ]
     },
     "execution_count": 11,
     "metadata": {},
     "output_type": "execute_result"
    }
   ],
   "source": [
    "uniform.cdf(np.arange(30,36,1),loc=27,scale=12)"
   ]
  },
  {
   "cell_type": "code",
   "execution_count": 12,
   "metadata": {},
   "outputs": [],
   "source": [
    "prob=0.66666667-0.25"
   ]
  },
  {
   "cell_type": "code",
   "execution_count": 15,
   "metadata": {},
   "outputs": [
    {
     "data": {
      "text/plain": [
       "0.41666667"
      ]
     },
     "execution_count": 15,
     "metadata": {},
     "output_type": "execute_result"
    }
   ],
   "source": [
    "prob"
   ]
  },
  {
   "cell_type": "code",
   "execution_count": 16,
   "metadata": {},
   "outputs": [
    {
     "data": {
      "text/plain": [
       "691.0"
      ]
     },
     "execution_count": 16,
     "metadata": {},
     "output_type": "execute_result"
    }
   ],
   "source": [
    "uniform.mean(loc=200,scale=982)"
   ]
  },
  {
   "cell_type": "code",
   "execution_count": 17,
   "metadata": {},
   "outputs": [
    {
     "data": {
      "text/plain": [
       "283.4789821721062"
      ]
     },
     "execution_count": 17,
     "metadata": {},
     "output_type": "execute_result"
    }
   ],
   "source": [
    "uniform.std(loc=200,scale=982)"
   ]
  },
  {
   "cell_type": "code",
   "execution_count": 22,
   "metadata": {},
   "outputs": [
    {
     "name": "stdout",
     "output_type": "stream",
     "text": [
      "0.15865525393145707\n"
     ]
    }
   ],
   "source": [
    "from scipy.stats import norm\n",
    "val,m,s=68,65.5,2.5\n",
    "print(1-norm.cdf(val,m,s))"
   ]
  },
  {
   "cell_type": "code",
   "execution_count": 1,
   "metadata": {},
   "outputs": [
    {
     "name": "stdout",
     "output_type": "stream",
     "text": [
      "Collecting chatterbot\n",
      "  Downloading ChatterBot-1.0.8-py2.py3-none-any.whl (63 kB)\n",
      "Requirement already satisfied: python-dateutil<2.9,>=2.8 in c:\\users\\sonu\\anaconda3\\lib\\site-packages (from chatterbot) (2.8.1)\n",
      "Requirement already satisfied: sqlalchemy<1.4,>=1.3 in c:\\users\\sonu\\anaconda3\\lib\\site-packages (from chatterbot) (1.3.13)\n",
      "Collecting mathparse<0.2,>=0.1\n",
      "  Downloading mathparse-0.1.2-py3-none-any.whl (7.2 kB)\n",
      "Requirement already satisfied: pytz in c:\\users\\sonu\\anaconda3\\lib\\site-packages (from chatterbot) (2019.3)\n",
      "Requirement already satisfied: six>=1.5 in c:\\users\\sonu\\anaconda3\\lib\\site-packages (from python-dateutil<2.9,>=2.8->chatterbot) (1.14.0)\n",
      "Installing collected packages: mathparse, chatterbot\n",
      "Successfully installed chatterbot-1.0.8 mathparse-0.1.2\n"
     ]
    }
   ],
   "source": [
    "!pip install chatterbot"
   ]
  },
  {
   "cell_type": "code",
   "execution_count": 15,
   "metadata": {},
   "outputs": [
    {
     "name": "stdout",
     "output_type": "stream",
     "text": [
      "Enter the number to print the tabel2\n",
      "2\n",
      "4\n",
      "6\n",
      "8\n",
      "10\n",
      "12\n",
      "14\n",
      "16\n",
      "18\n",
      "20\n"
     ]
    }
   ],
   "source": [
    "n=int(input('Enter the number to print the tabel'))\n",
    "for i in range(1,11):\n",
    "    t=n*i\n",
    "    print(t)"
   ]
  },
  {
   "cell_type": "code",
   "execution_count": 2,
   "metadata": {},
   "outputs": [
    {
     "name": "stdout",
     "output_type": "stream",
     "text": [
      "Collecting django\n",
      "  Using cached Django-3.1.2-py3-none-any.whl (7.8 MB)\n",
      "Collecting asgiref~=3.2.10\n",
      "  Using cached asgiref-3.2.10-py3-none-any.whl (19 kB)\n",
      "Requirement already satisfied: pytz in c:\\users\\sonu\\anaconda3\\lib\\site-packages (from django) (2019.3)\n",
      "Collecting sqlparse>=0.2.2\n",
      "  Using cached sqlparse-0.4.1-py3-none-any.whl (42 kB)\n",
      "Installing collected packages: asgiref, sqlparse, django\n",
      "Successfully installed asgiref-3.2.10 django-3.1.2 sqlparse-0.4.1\n"
     ]
    }
   ],
   "source": [
    "!pip install django"
   ]
  },
  {
   "cell_type": "code",
   "execution_count": 3,
   "metadata": {},
   "outputs": [
    {
     "name": "stdout",
     "output_type": "stream",
     "text": [
      "Requirement already satisfied: pillow in c:\\users\\sonu\\anaconda3\\lib\\site-packages (7.0.0)\n"
     ]
    }
   ],
   "source": [
    "!pip install pillow"
   ]
  },
  {
   "cell_type": "code",
   "execution_count": 5,
   "metadata": {},
   "outputs": [
    {
     "ename": "SyntaxError",
     "evalue": "invalid syntax (<ipython-input-5-d0e7a55fcfc4>, line 1)",
     "output_type": "error",
     "traceback": [
      "\u001b[1;36m  File \u001b[1;32m\"<ipython-input-5-d0e7a55fcfc4>\"\u001b[1;36m, line \u001b[1;32m1\u001b[0m\n\u001b[1;33m    django-admin startproject mysite\u001b[0m\n\u001b[1;37m                            ^\u001b[0m\n\u001b[1;31mSyntaxError\u001b[0m\u001b[1;31m:\u001b[0m invalid syntax\n"
     ]
    }
   ],
   "source": [
    "django-admin startproject mysite"
   ]
  },
  {
   "cell_type": "code",
   "execution_count": null,
   "metadata": {},
   "outputs": [],
   "source": []
  }
 ],
 "metadata": {
  "kernelspec": {
   "display_name": "Python 3",
   "language": "python",
   "name": "python3"
  },
  "language_info": {
   "codemirror_mode": {
    "name": "ipython",
    "version": 3
   },
   "file_extension": ".py",
   "mimetype": "text/x-python",
   "name": "python",
   "nbconvert_exporter": "python",
   "pygments_lexer": "ipython3",
   "version": "3.7.6"
  }
 },
 "nbformat": 4,
 "nbformat_minor": 4
}
